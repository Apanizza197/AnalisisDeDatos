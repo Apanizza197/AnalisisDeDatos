{
 "cells": [
  {
   "cell_type": "markdown",
   "metadata": {},
   "source": [
    "# Práctico 2"
   ]
  },
  {
   "cell_type": "code",
   "execution_count": 6,
   "metadata": {},
   "outputs": [],
   "source": [
    "import pandas as pd\n",
    "import matplotlib.pyplot as plt"
   ]
  },
  {
   "cell_type": "code",
   "execution_count": null,
   "metadata": {},
   "outputs": [],
   "source": [
    "#Read the data from the CSV file\n",
    "df = pd.read_csv('netflix.csv')\n",
    "df.head()"
   ]
  },
  {
   "cell_type": "markdown",
   "metadata": {},
   "source": [
    "## Columnas:\n",
    "+ **Identificatorios**: `show_id`\n",
    "+ **Caracteristicas**: `type`,`title`, `duration`,`description`\n",
    "+ **Fechas**: `date_added`, `release_year`\n",
    "+ **Otros**: `director`, `cast`, `country`, `rating`, `listed_in`"
   ]
  },
  {
   "cell_type": "code",
   "execution_count": 8,
   "metadata": {},
   "outputs": [],
   "source": [
    "#Colours \n",
    "colours = ['#f5f5f1', '#df0707', '#ba0c0c', '#980a0a', '#780909', '#0b0000']"
   ]
  },
  {
   "cell_type": "markdown",
   "metadata": {},
   "source": [
    "+ ### **Primera parte: Tipo de show más frecuente**"
   ]
  },
  {
   "cell_type": "code",
   "execution_count": 9,
   "metadata": {},
   "outputs": [],
   "source": [
    "#Dictionary of the genres\n",
    "replace_dict = {\n",
    "    'International TV Shows': 'International Shows',\n",
    "    'Korean TV Shows': 'Korean Shows',\n",
    "    'Romantic TV Shows' : 'Romcoms',\n",
    "    'British TV Shows': 'British Shows' ,\n",
    "    'Crime TV Shows': 'Crime Shows',\n",
    "    \n",
    "}       "
   ]
  },
  {
   "cell_type": "code",
   "execution_count": null,
   "metadata": {},
   "outputs": [],
   "source": [
    "#Cast 'listed_in' to string\n",
    "df['listed_in'] = df['listed_in'].astype(str)\n",
    "\n",
    "#Dropping the null values and separating them\n",
    "df_str = df.dropna(subset=['listed_in'])\n",
    "div_genres = df_str['listed_in'].str.split(', ').explode()\n",
    "\n",
    "div_genres = div_genres.replace(replace_dict)\n",
    "genre_count = div_genres.value_counts().head(15)\n",
    "\n",
    "fig, ax = plt.subplots()\n",
    "\n",
    "#Creating the chart\n",
    "fig.patch.set_facecolor(color=colours[0])\n",
    "bar_colours = [colours[2]] * 10\n",
    "\n",
    "genre_count_sort = genre_count.sort_values(ascending=True)\n",
    "genre_count_sort.plot(kind='barh', color=bar_colours, ax=ax)\n",
    "\n",
    "ax.set_title('Five most common genres', fontweight = 'bold')\n",
    "ax.set_ylabel('')\n",
    "\n",
    "ax.set_facecolor(colours[0])\n",
    "\n",
    "plt.show()"
   ]
  },
  {
   "cell_type": "markdown",
   "metadata": {},
   "source": [
    "+ ### **Segunda pregunta: Año con más pelis y series producidas**"
   ]
  },
  {
   "cell_type": "code",
   "execution_count": null,
   "metadata": {},
   "outputs": [],
   "source": [
    "#Count release_year and plot the ten most common years\n",
    "df['release_year'] = df['release_year'].astype(int)\n",
    "\n",
    "release_year_count = df['release_year'].value_counts().head(10)\n",
    "release_year_count = release_year_count.sort_values(ascending=True)\n",
    "\n",
    "#Plotting it in a bar chart\n",
    "fig, ax = plt.subplots()\n",
    "fig.patch.set_facecolor(color=colours[0])\n",
    "release_year_count.plot(kind='barh', color=colours[2], ax=ax)\n",
    "ax.set_title('Ten most common release years', fontweight = 'bold')\n",
    "ax.set_xlabel('Number of movies and TV Shows')\n",
    "ax.set_ylabel('')\n",
    "ax.set_facecolor(colours[0])\n",
    "\n",
    "plt.show()"
   ]
  },
  {
   "cell_type": "markdown",
   "metadata": {},
   "source": [
    "+ ### **Tercera pregunta: Países con más pelis y series producidas**"
   ]
  },
  {
   "cell_type": "code",
   "execution_count": 111,
   "metadata": {},
   "outputs": [],
   "source": [
    "from mpl_toolkits.basemap import Basemap\n",
    "\n",
    "#Creating a dictionary of the countries\n",
    "\n",
    "country_to_coords = {\n",
    "    #Pais: (latitud, longitud)\n",
    "    'United States': (37.0902, -95.7129),\n",
    "    'United Kingdom': (55.3781, -3.4360),\n",
    "    'South Korea': (37.5326, 127.0246),\n",
    "    'India': (20.5937, 78.9629),\n",
    "    'Canada':  (56.1304, -106.3468),\n",
    "    'Japan': (36.2048, 138.2529),\n",
    "    'Turkey': (39.1667, 35.6667),\n",
    "    'Spain': (40.4637, -3.7492),\n",
    "    'France': (46.6034, 1.8883),\n",
    "    'Egypt': (26.4337, 29.8240),\n",
    "    'Turkey' : (38.9637, 35.2433),\n",
    "    'Mexico': (23.6345, -102.5528),\n",
    "    'Australia': (-25.2744, 133.7751),\n",
    "    'Brazil': (-14.2350, -51.9253),\n",
    "    'Nigeria': (9.0820, 8.6753),\n",
    "    'Germany': (51.1657, 10.4515),\n",
    "    'Italy': (41.8719, 12.5674),\n",
    "    'Argentina': (-38.4161, -63.6167),\n",
    "    'Philippines': (12.8797, 121.7740),\n",
    "    'Indonesia': (-0.7893, 113.9213),\n",
    "    'Taiwan': (23.6978, 120.9605),\n",
    "    'Hong Kong': (22.3193, 114.1694),\n",
    "    'Thailand': (15.8700, 100.9925),\n",
    "    'South Africa': (-30.5595, 22.9375),\n",
    "    'Russia': (55.7558, 37.6176),\n",
    "    'Sweden': (60.1282, 18.6435),\n",
    "    'Norway': (60.4720, 8.4689),\n",
    "    'Denmark': (56.2639, 9.5018),\n",
    "    'Netherlands': (52.1326, 5.2913),\n",
    "    'Belgium': (50.5039, 4.4699),\n",
    "    'Ireland': (53.1424, -7.6921),\n",
    "    'New Zealand': (-40.9006, 174.8860),\n",
    "    'Poland': (51.9194, 19.1451),\n",
    "}"
   ]
  },
  {
   "cell_type": "code",
   "execution_count": null,
   "metadata": {},
   "outputs": [],
   "source": [
    "#Converting to string and discarding nan values\n",
    "df['country'] = df['country'].astype(str)\n",
    "df = df[df['country'].str.lower() != 'nan']\n",
    "\n",
    "#Discarding null country values and counting top 10 countries\n",
    "df_countries = df['country'].dropna()\n",
    "country_count = df['country'].value_counts().head(52)\n",
    "\n",
    "#Creating the map\n",
    "plt.figure(figsize=(8, 10))\n",
    "wmap = Basemap(llcrnrlon=-160, llcrnrlat=-70,urcrnrlon=185,urcrnrlat=80)\n",
    "\n",
    "# Draw boundaries, continents and coastlins\n",
    "wmap.drawmapboundary(fill_color=colours[5], linewidth=0)\n",
    "wmap.fillcontinents(color=colours[2], alpha=0.7, lake_color=colours[5])\n",
    "wmap.drawcoastlines(linewidth=0, color=\"white\")\n",
    "\n",
    "print(country_count)\n",
    "i = 0\n",
    "#Plotting scatter bubbles of the countries\n",
    "for country, country_counts in country_count.items():\n",
    "    coords = country_to_coords.get(country)\n",
    "    \n",
    "    if coords:\n",
    "        x, y = wmap(coords[1], coords[0])  \n",
    "        i += 1\n",
    "        # Add a legend with the country name and the number of movies to the biggest countries\n",
    "        wmap.scatter(x, y, s=country_counts/2, c=colours[0], alpha=0.7, edgecolor='k', linewidth=1)\n",
    "print(i)\n",
    "\n",
    "# show\n",
    "plt.show()"
   ]
  },
  {
   "cell_type": "code",
   "execution_count": null,
   "metadata": {},
   "outputs": [],
   "source": [
    "# Counting the countries and plotting the ten most common\n",
    "country_count = df['country'].value_counts().head(15)\n",
    "country_count_sorted = country_count.sort_values(ascending=True)\n",
    "\n",
    "#Plotting the graph of the most common countries in a horizontal bar chart\n",
    "fig, ax = plt.subplots()\n",
    "fig.patch.set_facecolor(color=colours[0])\n",
    "bar_colours = [colours[2]] * 10\n",
    "country_count_sorted.plot(kind='barh', color=bar_colours, ax=ax)\n",
    "ax.set_title('Ten most common countries', fontweight = 'bold')\n",
    "ax.set_xlabel('N° of movies & shows')\n",
    "ax.set_ylabel('Countries')\n",
    "plt.show()"
   ]
  },
  {
   "cell_type": "markdown",
   "metadata": {},
   "source": [
    "+ ### **Pregunta 4: Series y películas según rating**"
   ]
  },
  {
   "cell_type": "code",
   "execution_count": null,
   "metadata": {},
   "outputs": [],
   "source": [
    "#Count the ratings and plot the ten most common\n",
    "rating_count = df['rating'].value_counts().head(10)\n",
    "rating_count_sorted = rating_count.sort_values(ascending=True)\n",
    "\n",
    "#Plotting the graph of the most common ratings in a horizontal bar chart\n",
    "fig, ax = plt.subplots()\n",
    "fig.patch.set_facecolor(color=colours[0])\n",
    "bar_colours = [colours[2]] * 10\n",
    "rating_count_sorted.plot(kind='barh', color=bar_colours, ax=ax)\n",
    "\n",
    "ax.set_title('Ten most common ratings', fontweight = 'bold', color=colours[5])\n",
    "ax.set_facecolor(colours[5])\n",
    "\n",
    "ax.set_xlabel('N° of movies & shows', color=colours[5])\n",
    "ax.set_ylabel('Ratings', color = colours[5])\n",
    "\n",
    "ax.tick_params(axis='x', colors=colours[0])\n",
    "ax.tick_params(axis='y', colors=colours[0])\n",
    "\n",
    "for label in ax.get_xticklabels():\n",
    "    label.set_color(colours[5])\n",
    "for label in ax.get_yticklabels():\n",
    "    label.set_color(colours[5])\n",
    "\n",
    "plt.show()\n"
   ]
  },
  {
   "cell_type": "markdown",
   "metadata": {},
   "source": [
    "+ ### **Pregunta 5: Audiencia objetivo segun el origen de los shows**"
   ]
  },
  {
   "cell_type": "code",
   "execution_count": null,
   "metadata": {},
   "outputs": [],
   "source": [
    "df_filled = df['country'].fillna('Unknown').str.split(', ').explode()\n",
    "df_filled = df_filled.str.strip(',')\n",
    "\n",
    "df_exploded = df_filled.explode('country')\n",
    "uniqueCountryCount = df_exploded.value_counts()\n",
    "print(uniqueCountryCount)\n",
    "df_grouped = df_exploded.groupby(['country', 'rating']).size().reset_index(name='count')\n",
    "df_pivot = df_grouped.pivot(index='country', columns='rating', values='count').fillna(0)\n",
    "\n",
    "df_pivot.plot(kind='bar', stacked=True, color=[colours[1], colours[2], colours[3], colours[0]], figsize=(15, 10))\n"
   ]
  },
  {
   "cell_type": "markdown",
   "metadata": {},
   "source": [
    "+ ### **Pregunta 6: Distribución de las películas según cada mes**"
   ]
  },
  {
   "cell_type": "code",
   "execution_count": null,
   "metadata": {},
   "outputs": [],
   "source": [
    "# Build a dataframe that has the title, date_added, release, and exploded listed in data\n",
    "df_exploded_categories = df[['title', 'date_added', 'release_year', 'listed_in']].copy()\n",
    "df_exploded_categories['listed_in'] = df_exploded_categories['listed_in'].str.split(', ')\n",
    "df_exploded_categories['month_added'] = df_exploded_categories['date_added'].str.split(' ').str[0]\n",
    "\n",
    "df_exploded_categories = df_exploded_categories.explode('listed_in')\n",
    "\n",
    "df_exploded_categories.head()\n",
    "\n",
    "# Count the number of times each genre appears each month\n",
    "df_grouped_categories = df_exploded_categories.groupby(['month_added', 'listed_in']).size().reset_index(name='count')\n",
    "df_grouped_categories = df_grouped_categories.sort_values('count', ascending=False)\n",
    "df_grouped_categories.head(100)\n",
    "\n",
    "# # Group by the listed_in data and count the number of times each genre appears\n",
    "# df_grouped_categories = df_exploded_categories.groupby('listed_in').size().reset_index(name='count')\n",
    "# df_grouped_categories = df_grouped_categories.sort_values('count', ascending=False)\n",
    "# df_grouped_categories.head(100)\n"
   ]
  },
  {
   "cell_type": "markdown",
   "metadata": {},
   "source": [
    "+ ### **Pregunta 8: Los actores más populares**"
   ]
  },
  {
   "cell_type": "code",
   "execution_count": null,
   "metadata": {},
   "outputs": [],
   "source": [
    "cast_series = df['cast'].str.split(', ').explode()\n",
    "\n",
    "# Count occurrences of each actor\n",
    "actor_counts = cast_series.value_counts()\n",
    "\n",
    "# Get the top 5 actors\n",
    "top_5_actors = actor_counts.head(10)\n",
    "\n",
    "plt.figure(figsize=(10,6))\n",
    "top_5_actors.plot(kind='bar', color='red')\n",
    "plt.title('Top 10 Most Popular Actors')\n",
    "plt.xlabel('Actors')\n",
    "plt.ylabel('Number of Appearances')\n",
    "plt.xticks(rotation=45)\n",
    "plt.tight_layout()\n",
    "\n",
    "# Show the plot\n",
    "plt.show()"
   ]
  }
 ],
 "metadata": {
  "kernelspec": {
   "display_name": "Python 3",
   "language": "python",
   "name": "python3"
  },
  "language_info": {
   "codemirror_mode": {
    "name": "ipython",
    "version": 3
   },
   "file_extension": ".py",
   "mimetype": "text/x-python",
   "name": "python",
   "nbconvert_exporter": "python",
   "pygments_lexer": "ipython3",
   "version": "3.11.8"
  }
 },
 "nbformat": 4,
 "nbformat_minor": 2
}
