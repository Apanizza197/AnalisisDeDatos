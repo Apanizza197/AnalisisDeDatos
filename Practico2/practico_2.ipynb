{
 "cells": [
  {
   "cell_type": "markdown",
   "metadata": {},
   "source": [
    "# Práctico 2"
   ]
  },
  {
   "cell_type": "code",
   "execution_count": 7,
   "metadata": {},
   "outputs": [],
   "source": [
    "import pandas as pd\n",
    "import matplotlib.pyplot as plt"
   ]
  },
  {
   "cell_type": "code",
   "execution_count": null,
   "metadata": {},
   "outputs": [],
   "source": [
    "#Read the data from the CSV file\n",
    "df = pd.read_csv('netflix.csv')\n",
    "df.head()"
   ]
  },
  {
   "cell_type": "code",
   "execution_count": null,
   "metadata": {},
   "outputs": [],
   "source": [
    "# Data cleanup\n",
    "# Get all the categories from listed_in column\n",
    "categories = set()\n",
    "for i in df['listed_in']:\n",
    "    for j in i.split(', '):\n",
    "        categories.add(j)\n",
    "categories = list(categories)\n",
    "for cat in categories:\n",
    "    print(cat)"
   ]
  },
  {
   "cell_type": "markdown",
   "metadata": {},
   "source": [
    "## Columnas:\n",
    "+ **Identificatorios**: `show_id`\n",
    "+ **Caracteristicas**: `type`,`title`, `duration`,`description`\n",
    "+ **Fechas**: `date_added`, `release_year`\n",
    "+ **Otros**: `director`, `cast`, `country`, `rating`, `listed_in`"
   ]
  },
  {
   "cell_type": "code",
   "execution_count": 9,
   "metadata": {},
   "outputs": [],
   "source": [
    "#Colours\n",
    "colours = ['#f5f5f1', '#df0707', '#ba0c0c', '#980a0a', '#780909', '#0b0000']"
   ]
  },
  {
   "cell_type": "markdown",
   "metadata": {},
   "source": [
    "+ ### **Primera parte: Tipo de show más frecuente**"
   ]
  },
  {
   "cell_type": "code",
   "execution_count": 10,
   "metadata": {},
   "outputs": [],
   "source": [
    "#Dictionary of the genres\n",
    "replace_dict = {\n",
    "    'International TV Shows': 'International Shows',\n",
    "    'Korean TV Shows': 'Korean Shows',\n",
    "    'Romantic TV Shows' : 'Romcoms',\n",
    "    'British TV Shows': 'British Shows' ,\n",
    "    'Crime TV Shows': 'Crime Shows',\n",
    "    \n",
    "}       "
   ]
  },
  {
   "cell_type": "code",
   "execution_count": 11,
   "metadata": {},
   "outputs": [],
   "source": [
    "#Filter of TV shows that divides the listed_in data\n",
    "df_tv = df[df['type'] == 'TV Show']"
   ]
  },
  {
   "cell_type": "code",
   "execution_count": null,
   "metadata": {},
   "outputs": [],
   "source": [
    "#Cast 'listed_in' to string\n",
    "df_tv['listed_in'] = df_tv['listed_in'].astype(str)\n",
    "\n",
    "#Dropping the null values and separating them\n",
    "df_tv = df_tv.dropna(subset=['listed_in'])\n",
    "div_genres = df_tv['listed_in'].str.split(', ').explode()\n",
    "\n",
    "div_genres = div_genres.replace(replace_dict)\n",
    "genre_count = div_genres.value_counts().head(5)\n",
    "fig, ax = plt.subplots()\n",
    "\n",
    "#Creating the chart\n",
    "fig.patch.set_facecolor(color=colours[0])\n",
    "bar_colours = [colours[2]] * 10\n",
    "\n",
    "genre_count_sort = genre_count.sort_values(ascending=True)\n",
    "genre_count_sort.plot(kind='bar', color=bar_colours, ax=ax)\n",
    "\n",
    "ax.set_title('Five most common TV Show genres', fontweight = 'bold')\n",
    "ax.set_ylabel('')\n",
    "\n",
    "ax.set_facecolor(colours[0])\n",
    "\n",
    "plt.show()"
   ]
  },
  {
   "cell_type": "markdown",
   "metadata": {},
   "source": [
    "+ ### **Segunda pregunta: Año con más pelis y series producidas**"
   ]
  },
  {
   "cell_type": "code",
   "execution_count": null,
   "metadata": {},
   "outputs": [],
   "source": [
    "#Count release_year and plot the ten most common years\n",
    "df['release_year'] = df['release_year'].astype(int)\n",
    "\n",
    "release_year_count = df['release_year'].value_counts().head(10)\n",
    "release_year_count = release_year_count.sort_values(ascending=True)\n",
    "\n",
    "#Plotting it in a bar chart\n",
    "fig, ax = plt.subplots()\n",
    "fig.patch.set_facecolor(color=colours[0])\n",
    "release_year_count.plot(kind='barh', color=colours[2], ax=ax)\n",
    "ax.set_title('Ten most common release years', fontweight = 'bold')\n",
    "ax.set_xlabel('Number of movies and TV Shows')\n",
    "ax.set_ylabel('')\n",
    "ax.set_facecolor(colours[0])\n",
    "\n",
    "plt.show()"
   ]
  },
  {
   "cell_type": "markdown",
   "metadata": {},
   "source": [
    "+ ### **Tercera pregunta: Países con más pelis y series producidas**"
   ]
  },
  {
   "cell_type": "code",
   "execution_count": null,
   "metadata": {},
   "outputs": [],
   "source": [
    "#Converting to string and discarding nan values\n",
    "df['country'] = df['country'].astype(str)\n",
    "df = df[df['country'].str.lower() != 'nan']\n",
    "\n",
    "#Counting the countries and plotting the ten most common\n",
    "country_count = df['country'].value_counts().head(10)\n",
    "country_count_sorted = country_count.sort_values(ascending=True)\n",
    "\n",
    "#Plotting the graph of the most common countries in a horizontal bar chart\n",
    "fig, ax = plt.subplots()\n",
    "fig.patch.set_facecolor(color=colours[0])\n",
    "bar_colours = [colours[2]] * 10\n",
    "country_count_sorted.plot(kind='barh', color=bar_colours, ax=ax)\n",
    "ax.set_title('Ten most common countries', fontweight = 'bold')\n",
    "ax.set_xlabel('N° of movies & shows')\n",
    "ax.set_ylabel('Countries')\n",
    "plt.show()"
   ]
  },
  {
   "cell_type": "markdown",
   "metadata": {},
   "source": [
    "+ ### **Pregunta 4: Series y películas según rating**"
   ]
  },
  {
   "cell_type": "code",
   "execution_count": null,
   "metadata": {},
   "outputs": [],
   "source": [
    "#Count the ratings and plot the ten most common\n",
    "rating_count = df['rating'].value_counts().head(10)\n",
    "rating_count_sorted = rating_count.sort_values(ascending=True)\n",
    "\n",
    "#Plotting the graph of the most common ratings in a horizontal bar chart\n",
    "fig, ax = plt.subplots()\n",
    "fig.patch.set_facecolor(color=colours[3])\n",
    "bar_colours = [colours[2]] * 10\n",
    "rating_count_sorted.plot(kind='barh', color=bar_colours, ax=ax)\n",
    "\n",
    "ax.set_title('Ten most common ratings', fontweight = 'bold', color=colours[0])\n",
    "ax.set_facecolor(colours[3])\n",
    "\n",
    "ax.set_xlabel('N° of movies & shows', color=colours[0])\n",
    "ax.set_ylabel('Ratings', color = colours[0])\n",
    "\n",
    "ax.tick_params(axis='x', colors=colours[0])\n",
    "ax.tick_params(axis='y', colors=colours[0])\n",
    "\n",
    "for label in ax.get_xticklabels():\n",
    "    label.set_color(colours[0])\n",
    "for label in ax.get_yticklabels():\n",
    "    label.set_color(colours[0])\n",
    "\n",
    "plt.show()\n"
   ]
  },
  {
   "cell_type": "markdown",
   "metadata": {},
   "source": [
    "+ ### **Pregunta 5: Audiencia objetivo segun el origen de los shows**"
   ]
  },
  {
   "cell_type": "code",
   "execution_count": null,
   "metadata": {},
   "outputs": [],
   "source": [
    "df_filled = df['country'].fillna('Unknown').str.split(', ').explode()\n",
    "df_filled = df_filled.str.strip(',')\n",
    "\n",
    "df_exploded = df_filled.explode('country')\n",
    "uniqueCountryCount = df_exploded.value_counts()\n",
    "print(uniqueCountryCount)\n",
    "df_grouped = df_exploded.groupby(['country', 'rating']).size().reset_index(name='count')\n",
    "df_pivot = df_grouped.pivot(index='country', columns='rating', values='count').fillna(0)\n",
    "\n",
    "df_pivot.plot(kind='bar', stacked=True, color=[colours[1], colours[2], colours[3], colours[0]], figsize=(15, 10))\n"
   ]
  },
  {
   "cell_type": "markdown",
   "metadata": {},
   "source": [
    "+ ### **Pregunta 6: Distribución de las películas según cada mes**"
   ]
  },
  {
   "cell_type": "code",
   "execution_count": null,
   "metadata": {},
   "outputs": [],
   "source": [
    "# Build a dataframe that has the title, date_added, release, and exploded listed in data\n",
    "df_exploded_categories = df[['title', 'date_added', 'release_year', 'listed_in']].copy()\n",
    "df_exploded_categories['listed_in'] = df_exploded_categories['listed_in'].str.split(', ')\n",
    "df_exploded_categories['month_added'] = df_exploded_categories['date_added'].str.split(' ').str[0]\n",
    "\n",
    "df_exploded_categories = df_exploded_categories.explode('listed_in')\n",
    "\n",
    "df_exploded_categories.head()\n",
    "\n",
    "# Group by the listed_in data and count the number of times each genre appears\n",
    "df_grouped_categories = df_exploded_categories.groupby('listed_in').size().reset_index(name='count')\n",
    "df_grouped_categories = df_grouped_categories.sort_values('count', ascending=False)\n",
    "df_grouped_categories.head(100)\n"
   ]
  },
  {
   "cell_type": "markdown",
   "metadata": {},
   "source": [
    "+ ### **Pregunta 8: Los actores más populares**"
   ]
  },
  {
   "cell_type": "code",
   "execution_count": null,
   "metadata": {},
   "outputs": [],
   "source": [
    "cast_series = df['cast'].str.split(', ').explode()\n",
    "\n",
    "# Count occurrences of each actor\n",
    "actor_counts = cast_series.value_counts()\n",
    "\n",
    "# Get the top 5 actors\n",
    "top_5_actors = actor_counts.head(10)\n",
    "\n",
    "plt.figure(figsize=(10,6))\n",
    "top_5_actors.plot(kind='bar', color='red')\n",
    "plt.title('Top 10 Most Popular Actors')\n",
    "plt.xlabel('Actors')\n",
    "plt.ylabel('Number of Appearances')\n",
    "plt.xticks(rotation=45)\n",
    "plt.tight_layout()\n",
    "\n",
    "# Show the plot\n",
    "plt.show()"
   ]
  }
 ],
 "metadata": {
  "kernelspec": {
   "display_name": "Python 3",
   "language": "python",
   "name": "python3"
  },
  "language_info": {
   "codemirror_mode": {
    "name": "ipython",
    "version": 3
   },
   "file_extension": ".py",
   "mimetype": "text/x-python",
   "name": "python",
   "nbconvert_exporter": "python",
   "pygments_lexer": "ipython3",
   "version": "3.11.8"
  }
 },
 "nbformat": 4,
 "nbformat_minor": 2
}
