{
 "cells": [
  {
   "cell_type": "markdown",
   "metadata": {},
   "source": [
    "# Práctico 2"
   ]
  },
  {
   "cell_type": "code",
   "execution_count": 1,
   "metadata": {},
   "outputs": [],
   "source": [
    "import pandas as pd\n",
    "import matplotlib.pyplot as plt"
   ]
  },
  {
   "cell_type": "code",
   "execution_count": null,
   "metadata": {},
   "outputs": [],
   "source": [
    "#Read the data from the CSV file\n",
    "df = pd.read_csv('netflix.csv')\n",
    "df.head()"
   ]
  },
  {
   "cell_type": "code",
   "execution_count": 3,
   "metadata": {},
   "outputs": [],
   "source": [
    "#Colours\n",
    "colours = ['#f5f5f1', '#df0707', '#ba0c0c', '#980a0a', '#780909', '#0b0000']"
   ]
  },
  {
   "cell_type": "markdown",
   "metadata": {},
   "source": [
    "+ ### **Pregunta 10, palabras más comunes**"
   ]
  },
  {
   "cell_type": "code",
   "execution_count": 4,
   "metadata": {},
   "outputs": [],
   "source": [
    "# Get a count of every word that appears in the 'title' column, in titlecase\n",
    "title_words = df['title'].str.lower().str.split(expand=True).stack().value_counts()\n",
    "\n",
    "# Exclude the most common words\n",
    "\n",
    "title_words = title_words[~title_words.index.isin(['the', 'of', 'a', 'and', 'in', 'to', 'on', 'for', 'with', 'is', 'at', 'from', 'an', 'by', 'new', 'as', 'you', 'your', 'it', 'be', 'are', 'this', 'that', 'or', 'will', 'all', 'not', 'no', 'my', 'me', 'i', 'our', 'we', 'us', 'his', 'her', 'their', 'they', 'it', 'its', '&', 'version)', '2', 'el', 'los', '2:', 'la'])]\n",
    "\n"
   ]
  },
  {
   "cell_type": "code",
   "execution_count": null,
   "metadata": {},
   "outputs": [],
   "source": [
    "from wordcloud import WordCloud\n",
    "import matplotlib.pyplot as plt\n",
    "\n",
    "# Dictionary of words with their respective counts\n",
    "word_freq = title_words.to_dict()\n",
    "\n",
    "# Create the word cloud object using the word frequencies\n",
    "wordcloud = WordCloud(width=800, height=400, background_color='black', colormap='Reds').generate_from_frequencies(word_freq)\n",
    "\n",
    "# Plot the word cloud\n",
    "plt.figure(figsize=(10, 5))\n",
    "plt.imshow(wordcloud, interpolation='bilinear', cmap='plasma')\n",
    "plt.axis('off')  # Turn off the axis\n",
    "plt.show()\n"
   ]
  },
  {
   "cell_type": "code",
   "execution_count": null,
   "metadata": {},
   "outputs": [],
   "source": [
    "# Plot the 20 most common words\n",
    "# Make the bars horizontal\n",
    "\n",
    "title_words = title_words.head(20)\n",
    "title_words = title_words.sort_values(ascending=True)\n",
    "title_words.plot(kind='barh', color=colours[1:])\n",
    "plt.title('Most Common Words in Netflix Titles')\n",
    "plt.xlabel('Frequency')\n",
    "plt.ylabel('Word')\n",
    "plt.show()\n"
   ]
  },
  {
   "cell_type": "code",
   "execution_count": 7,
   "metadata": {},
   "outputs": [],
   "source": [
    "# Get a count of every word that appears in the 'title' column, in titlecase\n",
    "desc_words = df['description'].str.lower().str.split(expand=True).stack().value_counts()\n",
    "\n",
    "# Exclude the most common words\n",
    "\n",
    "desc_words = desc_words[~desc_words.index.isin(['the', 'of', 'a', 'and', 'in', 'to', 'on', 'for', 'with', 'is', 'at', 'from', 'an', 'by', 'new', 'as', 'you', 'your', 'it', 'be', 'are', 'this', 'that', 'or', 'will', 'all', 'not', 'no', 'my', 'me', 'i', 'our', 'we', 'us', 'his', 'her', 'their', 'they', 'it', 'its', '&', 'version)', '2', 'el', 'los', '2:', 'la', '–', '_', 'but'])]\n"
   ]
  },
  {
   "cell_type": "code",
   "execution_count": null,
   "metadata": {},
   "outputs": [],
   "source": [
    "from wordcloud import WordCloud\n",
    "import matplotlib.pyplot as plt\n",
    "\n",
    "# Dictionary of words with their respective counts\n",
    "word_freq = desc_words.to_dict()\n",
    "\n",
    "# Create the word cloud object using the word frequencies\n",
    "wordcloud = WordCloud(width=800, height=400, background_color='black', colormap='Reds').generate_from_frequencies(word_freq)\n",
    "\n",
    "# Plot the word cloud\n",
    "plt.figure(figsize=(10, 5))\n",
    "plt.imshow(wordcloud, interpolation='bilinear', cmap='plasma')\n",
    "plt.axis('off')  # Turn off the axis\n",
    "plt.show()\n"
   ]
  },
  {
   "cell_type": "code",
   "execution_count": null,
   "metadata": {},
   "outputs": [],
   "source": [
    "\n",
    "desc_words_red = desc_words.head(20)\n",
    "desc_words_red = desc_words_red.sort_values(ascending=True)\n",
    "desc_words_red.plot(kind='barh', color=colours[1:])\n",
    "plt.title('Most Common Words in Netflix Descriptions')\n",
    "plt.xlabel('Frequency')\n",
    "plt.ylabel('Word')\n",
    "plt.show()"
   ]
  }
 ],
 "metadata": {
  "kernelspec": {
   "display_name": "Python 3",
   "language": "python",
   "name": "python3"
  },
  "language_info": {
   "codemirror_mode": {
    "name": "ipython",
    "version": 3
   },
   "file_extension": ".py",
   "mimetype": "text/x-python",
   "name": "python",
   "nbconvert_exporter": "python",
   "pygments_lexer": "ipython3",
   "version": "3.11.8"
  }
 },
 "nbformat": 4,
 "nbformat_minor": 2
}
