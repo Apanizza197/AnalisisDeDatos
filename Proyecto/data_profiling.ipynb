{
 "cells": [
  {
   "cell_type": "code",
   "execution_count": 4,
   "metadata": {},
   "outputs": [],
   "source": [
    "import pandas as pd\n",
    "import numpy as np\n",
    "\n",
    "\n",
    "filename = \"siniestros2022.csv\"\n",
    "# Load the dataset\n",
    "initial_df = pd.read_csv(filename)\n",
    "\n",
    "# from dataprep.eda import create_report\n",
    "\n",
    "# # Generate the profile report\n",
    "# report = create_report(df)\n",
    "# report.show_browser()"
   ]
  },
  {
   "cell_type": "code",
   "execution_count": 5,
   "metadata": {},
   "outputs": [
    {
     "name": "stderr",
     "output_type": "stream",
     "text": [
      "C:\\Users\\santi\\AppData\\Local\\Temp\\ipykernel_3860\\2753064297.py:21: FutureWarning: A value is trying to be set on a copy of a DataFrame or Series through chained assignment using an inplace method.\n",
      "The behavior will change in pandas 3.0. This inplace method will never work because the intermediate object on which we are setting values always behaves as a copy.\n",
      "\n",
      "For example, when doing 'df[col].method(value, inplace=True)', try using 'df.method({col: value}, inplace=True)' or df[col] = df[col].method(value) instead, to perform the operation inplace on the original object.\n",
      "\n",
      "\n",
      "  df[\"Edad\"].fillna(int(mean_edad), inplace=True)\n"
     ]
    }
   ],
   "source": [
    "# Clean data\n",
    "\n",
    "df = initial_df.copy()\n",
    "df.head()\n",
    "\n",
    "# Remove the first space from the column names\n",
    "df.columns = df.columns.str.strip()\n",
    "\n",
    "# Separate Fecha into two columns, day and month\n",
    "df[\"Dia\"] = df[\"Fecha\"].str.split(\"/\").str[0]\n",
    "df[\"Mes\"] = df[\"Fecha\"].str.split(\"/\").str[1]\n",
    "# Set Dia, Mes as integer\n",
    "df[\"Dia\"] = pd.to_numeric(df[\"Dia\"], errors='coerce')\n",
    "df[\"Mes\"] = pd.to_numeric(df[\"Mes\"], errors='coerce')\n",
    "\n",
    "# Set Edad, Hora as integer\n",
    "df[\"Edad\"] = pd.to_numeric(df[\"Edad\"], errors='coerce')\n",
    "# Calculate the mean of Edad, excluding null values\n",
    "mean_edad = df[\"Edad\"].mean()\n",
    "# Replace null values in Edad with the mean\n",
    "df[\"Edad\"].fillna(int(mean_edad), inplace=True)\n",
    "\n",
    "df[\"Hora\"] = pd.to_numeric(df[\"Hora\"], errors='coerce')\n",
    "\n",
    "# Change column DI�a de la semana with DIA, Cintur�n with Cinturon\n",
    "df.rename(columns={df.columns[9]: \"Dia de la semana\"}, inplace=True)\n",
    "df.rename(columns={df.columns[7]: \"Usa Cinturon\"}, inplace=True)\n",
    "\n",
    "# Change SI�BADO with SABADO, VEHI�CULOS with VEHICULOS, CAI�DA with CAIDA, ORDO�EZ with ORDONEZ, ESPA�A with ESPANA, CORU�A with CORUNA\n",
    "df[\"Dia de la semana\"] = df[\"Dia de la semana\"].str.replace(\"SI�BADO\", \"SABADO\", regex=False)\n",
    "df[\"Tipo de siniestro\"] = df[\"Tipo de siniestro\"].str.replace(\"CAI�DA\", \"CAIDA\", regex=False)\n",
    "df[\"Tipo de siniestro\"] = df[\"Tipo de siniestro\"].str.replace(\"VEHI�CULOS\", \"VEHICULOS\", regex=False)\n",
    "\n",
    "#Contar en Cinturon los valores de SIN DATOS, para ver si hay que borrar la columna\n",
    "\n",
    "#Eliminar la columna de Departamento\n",
    "df.drop(columns=[\"Departamento\"], inplace=True)\n",
    "df.drop(columns=[\"Localidad\"], inplace=True)\n",
    "df.drop(columns=[\"Calle\"], inplace=True)\n",
    "df.drop(columns=[\"fixed\"], inplace=True)\n",
    "df.drop(columns=[\"Novedad\"], inplace=True)\n",
    "df.drop(columns=[\"Usa Cinturon\"], inplace=True)\n",
    "df.drop(columns=[\"Fecha\"], inplace=True)\n",
    "\n",
    "\n",
    "#Cambiar todos los valores de la columna Vehiculo de \"MOTOCICLETA\" a \"MOTO\"\n",
    "df[\"Tipo de Vehiculo\"] = df[\"Tipo de Vehiculo\"].str.strip()\n",
    "df[\"Tipo de Vehiculo\"] = df[\"Tipo de Vehiculo\"].str.replace(\"MOTOCICLETA\", \"MOTO\", regex=False)\n",
    "df[\"Tipo de Vehiculo\"] = df[\"Tipo de Vehiculo\"].str.replace(\"CICLOMOTOR\", \"MOTO\", regex=False)\n",
    "df[\"Tipo de Vehiculo\"] = df[\"Tipo de Vehiculo\"].str.replace(\"CHAPA MATRICULA\", \"MOTO\", regex=False)\n",
    "df[\"Tipo de Vehiculo\"] = df[\"Tipo de Vehiculo\"].str.replace(\"SIN DATOS\", \"MOTO\", regex=False)\n",
    "df[\"Tipo de Vehiculo\"] = df[\"Tipo de Vehiculo\"].str.replace(\"TRICICLO\", \"MOTO\", regex=False)\n",
    "\n",
    "# Change MOTO with MOTO CON CASCO for Tipo de Vehiculo\n",
    "df.loc[(df['Tipo de Vehiculo'] == 'MOTO') & (df['Usa casco'] == ' USA CASCO'), 'Tipo de Vehiculo'] = 'MOTO CON CASCO'\n",
    "\n",
    "\n",
    "# Replace zone with mode value for SIN DATOS\n",
    "df[\"Zona\"] = df[\"Zona\"].str.replace(\" SIN DATOS\", \"URBANA\", regex=False)\n",
    "df[\"Zona\"] = df[\"Zona\"].str.replace(\" URBANA    \", \"URBANA\", regex=False)\n",
    "df[\"Zona\"] = df[\"Zona\"].str.replace(\" SUBURBANA \", \"SUBURBANA\", regex=False)\n",
    "df[\"Zona\"] = df[\"Zona\"].str.replace(\" RURAL     \", \"RURAL\", regex=False)\n",
    "\n",
    "# Replace sexo with mode value, change to a boolean isMale\n",
    "df[\"Sexo\"] = df[\"Sexo\"].str.replace(\" SIN DATOS\", \" MASCULINO\", regex=False)\n",
    "# Add a column with true if Sexo is MASCULINO\n",
    "df[\"isMale\"] = df[\"Sexo\"].str.contains(\"MASCULINO\", regex=False)\n",
    "\n",
    "\n",
    "# Add a column with true if is Tipo de resultado is Herido leve\n",
    "df[\"isHeridoLeve\"] = df[\"Tipo de resultado\"].str.contains(\"HERIDO LEVE\", regex=False)\n",
    "\n",
    "df.drop(columns=[\"Tipo de resultado\"], inplace=True)\n",
    "df.drop(columns=[\"Sexo\"], inplace=True)\n",
    "df.drop(columns=[\"Usa casco\"], inplace=True)\n"
   ]
  },
  {
   "cell_type": "code",
   "execution_count": 6,
   "metadata": {},
   "outputs": [],
   "source": [
    "df.to_csv(\"cleaned_siniestros.csv\", index=False)"
   ]
  }
 ],
 "metadata": {
  "kernelspec": {
   "display_name": "Python 3",
   "language": "python",
   "name": "python3"
  },
  "language_info": {
   "codemirror_mode": {
    "name": "ipython",
    "version": 3
   },
   "file_extension": ".py",
   "mimetype": "text/x-python",
   "name": "python",
   "nbconvert_exporter": "python",
   "pygments_lexer": "ipython3",
   "version": "3.11.9"
  }
 },
 "nbformat": 4,
 "nbformat_minor": 2
}
