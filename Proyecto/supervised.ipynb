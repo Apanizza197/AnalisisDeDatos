{
 "cells": [
  {
   "cell_type": "code",
   "execution_count": 45,
   "metadata": {},
   "outputs": [],
   "source": [
    "#Importar librerias \n",
    "import pandas as pd\n",
    "import seaborn as sns\n",
    "import matplotlib.pyplot as plt\n",
    "\n",
    "from sklearn.model_selection import train_test_split\n",
    "from sklearn.preprocessing import StandardScaler\n",
    "\n",
    "from sklearn.tree import DecisionTreeClassifier\n",
    "from sklearn.ensemble import RandomForestClassifier\n",
    "from sklearn.neighbors import KNeighborsClassifier\n",
    "from sklearn.naive_bayes import GaussianNB\n",
    "from sklearn.svm import SVC\n",
    "from sklearn.linear_model import LogisticRegression\n",
    "\n",
    "from sklearn.metrics import accuracy_score, precision_score, recall_score, f1_score, confusion_matrix\n",
    "\n",
    "# Para mostrar el arbol de decision\n",
    "from sklearn.tree import export_graphviz\n",
    "from six import StringIO\n",
    "from IPython.display import Image  \n",
    "import pydotplus\n",
    "\n",
    "import numpy as np"
   ]
  },
  {
   "cell_type": "code",
   "execution_count": 46,
   "metadata": {},
   "outputs": [],
   "source": [
    "# Cargar el dataset\n",
    "data = pd.read_csv('cleaned_siniestros.csv')"
   ]
  },
  {
   "cell_type": "code",
   "execution_count": 47,
   "metadata": {},
   "outputs": [],
   "source": [
    "X = data.drop(columns='isHeridoLeve')\n",
    "y = data['isHeridoLeve']\n",
    "\n",
    "# Dividir en train, test y validation\n",
    "X_train, X_test, y_train, y_test = train_test_split(X, y, test_size=0.2, random_state=42)\n",
    "X_train, X_val, y_train, y_val = train_test_split(X_train, y_train, test_size=0.2, random_state=42)\n"
   ]
  },
  {
   "cell_type": "code",
   "execution_count": 48,
   "metadata": {},
   "outputs": [],
   "source": [
    "categorical_columns = ['Rol', 'Zona', 'Tipo de siniestro', 'Dia de la semana', 'Tipo de Vehiculo']\n",
    "\n",
    "def preprocesar_variables_categoricas(data):\n",
    "    '''Preprocesar variables categoricas'''\n",
    "    dummies = pd.get_dummies(data[categorical_columns])\n",
    "    # Eliminar columnas originales\n",
    "    data.drop(columns=categorical_columns, inplace=True)\n",
    "    # Concatenar dummies\n",
    "    data = pd.concat([data, dummies], axis=1)\n",
    "    return data\n",
    "\n",
    "X_train = preprocesar_variables_categoricas(X_train)\n",
    "X_val = preprocesar_variables_categoricas(X_val)\n",
    "X_test = preprocesar_variables_categoricas(X_test)"
   ]
  },
  {
   "cell_type": "code",
   "execution_count": 49,
   "metadata": {},
   "outputs": [],
   "source": [
    "# Get all columns in X_train, X_val and X_test\n",
    "all_columns = set(X_train.columns).union(set(X_val.columns)).union(set(X_test.columns))\n",
    "\n",
    "# Add missing columns to X_train, X_val and X_test\n",
    "for column in all_columns:\n",
    "    if column not in X_train.columns:\n",
    "        X_train[column] = False\n",
    "    if column not in X_val.columns:\n",
    "        X_val[column] = False\n",
    "    if column not in X_test.columns:\n",
    "        X_test[column] = False\n",
    "\n",
    "# Reorder columns\n",
    "X_train = X_train[list(all_columns)]\n",
    "X_val = X_val[list(all_columns)]\n",
    "X_test = X_test[list(all_columns)]\n",
    "\n",
    "features = list(X_train.columns)\n"
   ]
  },
  {
   "cell_type": "code",
   "execution_count": 50,
   "metadata": {},
   "outputs": [],
   "source": [
    "# Normalizar datos\n",
    "def normalizar_datos(data):\n",
    "    '''Normalizar datos'''\n",
    "    scaler = StandardScaler()\n",
    "    data = scaler.fit_transform(data)\n",
    "    return data\n",
    "\n",
    "X_train = normalizar_datos(X_train)\n",
    "X_val = normalizar_datos(X_val)\n",
    "X_test = normalizar_datos(X_test)"
   ]
  },
  {
   "cell_type": "code",
   "execution_count": 51,
   "metadata": {},
   "outputs": [],
   "source": [
    "# # Evaluar accuracy, precision, recall y F1\n",
    "def obtener_metricas_evaluacion(y_real, y_predicho):\n",
    "    '''Obtener metricas de evaluacion'''\n",
    "\n",
    "    matrix_confusion = confusion_matrix(y_real, y_predicho)\n",
    "    print('Accuracy:', accuracy_score(matrix_confusion))\n",
    "    print('Precision:', precision_score(matrix_confusion))\n",
    "    print('Recall:', recall_score(matrix_confusion))\n",
    "    print('F1:', f1_score(matrix_confusion))\n",
    "    \n",
    "    sns.heatmap(matrix_confusion, annot=True, fmt='d')\n",
    "    plt.xlabel('Predicho')\n",
    "    plt.ylabel('Real')\n",
    "    plt.show()\n",
    "\n",
    "# def get_accuracy(matrix_confusion):\n",
    "#     '''Obtener accuracy'''\n",
    "#     sum = 0\n",
    "#     for i in range(len(matrix_confusion)):\n",
    "#         sum += matrix_confusion[i][i]\n",
    "#     return sum / matrix_confusion.sum()\n",
    "\n",
    "# def get_precision(matrix_confusion):\n",
    "#     '''Obtener precision'''\n",
    "#     columns = []\n",
    "#     for i in range(len(matrix_confusion)):\n",
    "#         if matrix_confusion[i,:].sum() == 0:\n",
    "#             columns.append(0)\n",
    "#         else:\n",
    "#             columns.append(matrix_confusion[i][i] / matrix_confusion[i, :].sum())\n",
    "#     return columns\n",
    "\n",
    "# def get_recall(matrix_confusion):\n",
    "#     '''Obtener recall'''\n",
    "#     rows = []\n",
    "#     for i in range(len(matrix_confusion)):\n",
    "#         if matrix_confusion[:,i].sum() == 0:\n",
    "#             rows.append(0)\n",
    "#         else:\n",
    "#             rows.append(matrix_confusion[i][i] / matrix_confusion[:, i].sum())\n",
    "#     return rows\n",
    "\n",
    "# def get_f1(matrix_confusion):\n",
    "#     '''Obtener F1'''\n",
    "#     precision = get_precision(matrix_confusion)\n",
    "#     recall = get_recall(matrix_confusion)\n",
    "#     f1 = []\n",
    "#     for i in range(len(precision)):\n",
    "#         if precision[i] + recall[i] == 0:\n",
    "#             f1.append(0)\n",
    "#         else:\n",
    "#             f1.append(2 * (precision[i] * recall[i]) / (precision[i] + recall[i]))\n",
    "#     return f1\n"
   ]
  },
  {
   "cell_type": "code",
   "execution_count": 52,
   "metadata": {},
   "outputs": [],
   "source": [
    "# Crear un dataframe para almacenar los resultados\n",
    "resultados = pd.DataFrame(columns=['Modelo', 'Accuracy', 'Precision', 'Recall', 'F1', 'Description'])\n",
    "\n",
    "def agregar_resultados(modelo_nombre, y_real, y_predicho, descripcion=''):\n",
    "    '''Agregar resultados al dataframe'''\n",
    "    matrix_confusion = confusion_matrix(y_real, y_predicho)\n",
    "    \n",
    "    accuracy = accuracy_score(y_real, y_predicho)\n",
    "    precision = precision_score(y_real, y_predicho)\n",
    "    recall = recall_score(y_real, y_predicho)\n",
    "    f1 = f1_score(y_real, y_predicho)\n",
    "    \n",
    "    resultados.loc[len(resultados)] = [modelo_nombre, accuracy, precision, recall, f1, descripcion]\n"
   ]
  },
  {
   "cell_type": "markdown",
   "metadata": {},
   "source": [
    "## Random Forest"
   ]
  },
  {
   "cell_type": "code",
   "execution_count": 53,
   "metadata": {},
   "outputs": [],
   "source": [
    "modelo_random_forest = RandomForestClassifier()\n",
    "modelo_random_forest.fit(X_train, y_train)\n",
    "y_pred = modelo_random_forest.predict(X_val)\n",
    "\n",
    "\n",
    "agregar_resultados('Random Forest', y_val, y_pred, descripcion='n_estimators=100, max_depth=None')\n",
    "\n",
    "modelo_random_forest = RandomForestClassifier(n_estimators=200)\n",
    "modelo_random_forest.fit(X_train, y_train)\n",
    "y_pred = modelo_random_forest.predict(X_val)\n",
    "\n",
    "agregar_resultados('Random Forest', y_val, y_pred, 'n_estimators=200, max_depth=None')\n",
    "\n",
    "modelo_random_forest = RandomForestClassifier(n_estimators=200, max_depth=10)\n",
    "modelo_random_forest.fit(X_train, y_train)\n",
    "y_pred = modelo_random_forest.predict(X_val)\n",
    "\n",
    "agregar_resultados('Random Forest', y_val, y_pred, 'n_estimators=100, max_depth=10')\n"
   ]
  },
  {
   "cell_type": "markdown",
   "metadata": {},
   "source": [
    "## Regresion Logistica"
   ]
  },
  {
   "cell_type": "code",
   "execution_count": 54,
   "metadata": {},
   "outputs": [],
   "source": [
    "# Entrenar modelo Regresion Logistica\n",
    "modelo_regresion_logistica = LogisticRegression()\n",
    "modelo_regresion_logistica.fit(X_train, y_train)\n",
    "y_pred = modelo_regresion_logistica.predict(X_val)\n",
    "\n",
    "agregar_resultados('Regresion Logistica', y_val, y_pred, 'max_iter=100, C=1')\n",
    "\n",
    "# Entrenar modelo Regresion Logistica\n",
    "modelo_regresion_logistica = LogisticRegression(max_iter=200)\n",
    "modelo_regresion_logistica.fit(X_train, y_train)\n",
    "y_pred = modelo_regresion_logistica.predict(X_val)\n",
    "\n",
    "agregar_resultados('Regresion Logistica', y_val, y_pred, 'max_iter=200, C=1')\n",
    "\n",
    "# Entrenar modelo Regresion Logistica\n",
    "modelo_regresion_logistica = LogisticRegression(max_iter=200, C=0.1)\n",
    "modelo_regresion_logistica.fit(X_train, y_train)\n",
    "y_pred = modelo_regresion_logistica.predict(X_val)\n",
    "\n",
    "agregar_resultados('Regresion Logistica', y_val, y_pred, 'max_iter=200, C=0.1')\n"
   ]
  },
  {
   "cell_type": "markdown",
   "metadata": {},
   "source": [
    "## SVM"
   ]
  },
  {
   "cell_type": "code",
   "execution_count": 55,
   "metadata": {},
   "outputs": [],
   "source": [
    "modelo_svm = SVC()\n",
    "modelo_svm.fit(X_train, y_train)\n",
    "y_pred = modelo_svm.predict(X_val)\n",
    "\n",
    "agregar_resultados('SVM', y_val, y_pred, 'C=1, kernel=rbf')\n",
    "\n",
    "modelo_svm = SVC(C=0.1)\n",
    "modelo_svm.fit(X_train, y_train)\n",
    "y_pred = modelo_svm.predict(X_val)\n",
    "\n",
    "agregar_resultados('SVM', y_val, y_pred, 'C=0.1, kernel=rbf')\n",
    "\n",
    "modelo_svm = SVC(C=0.1, kernel='linear')\n",
    "modelo_svm.fit(X_train, y_train)\n",
    "y_pred = modelo_svm.predict(X_val)\n",
    "\n",
    "agregar_resultados('SVM', y_val, y_pred, 'C=0.1, kernel=linear')\n",
    "\n",
    "\n"
   ]
  },
  {
   "cell_type": "markdown",
   "metadata": {},
   "source": [
    "## Decision tree"
   ]
  },
  {
   "cell_type": "code",
   "execution_count": 56,
   "metadata": {},
   "outputs": [],
   "source": [
    "modelo_decision_tree = DecisionTreeClassifier()\n",
    "modelo_decision_tree.fit(X_train, y_train)\n",
    "y_pred = modelo_decision_tree.predict(X_val)\n",
    "\n",
    "agregar_resultados('Decision Tree', y_val, y_pred, 'max_depth=None, min_samples_split=2')\n",
    "\n",
    "modelo_decision_tree = DecisionTreeClassifier(max_depth=10)\n",
    "modelo_decision_tree.fit(X_train, y_train)\n",
    "y_pred = modelo_decision_tree.predict(X_val)\n",
    "\n",
    "agregar_resultados('Decision Tree', y_val, y_pred, 'max_depth=10, min_samples_split=2')\n",
    "\n",
    "modelo_decision_tree = DecisionTreeClassifier(max_depth=10, min_samples_split=5)\n",
    "modelo_decision_tree.fit(X_train, y_train)\n",
    "y_pred = modelo_decision_tree.predict(X_val)\n",
    "\n",
    "agregar_resultados('Decision Tree', y_val, y_pred, 'max_depth=10, min_samples_split=5')"
   ]
  },
  {
   "cell_type": "code",
   "execution_count": 64,
   "metadata": {},
   "outputs": [
    {
     "data": {
      "image/png": "[encoded data removed]",
      "text/plain": [
       "<Figure size 640x480 with 2 Axes>"
      ]
     },
     "metadata": {},
     "output_type": "display_data"
    }
   ],
   "source": [
    "import matplotlib.pyplot as plt\n",
    "from sklearn.metrics import ConfusionMatrixDisplay, confusion_matrix\n",
    "\n",
    "# Genera la matriz de confusión\n",
    "matrix_confusion = confusion_matrix(y_val, y_pred, labels=[0, 1])\n",
    "\n",
    "# Crea la visualización de la matriz de confusión\n",
    "disp = ConfusionMatrixDisplay(confusion_matrix=matrix_confusion)\n",
    "disp.plot(cmap=\"Blues\")  # Puedes cambiar el color con cmap\n",
    "\n",
    "# Muestra la gráfica\n",
    "plt.title(\"Matriz de Confusión\")\n",
    "plt.show()\n"
   ]
  },
  {
   "cell_type": "code",
   "execution_count": null,
   "metadata": {},
   "outputs": [],
   "source": []
  }
 ],
 "metadata": {
  "kernelspec": {
   "display_name": "Python 3",
   "language": "python",
   "name": "python3"
  },
  "language_info": {
   "codemirror_mode": {
    "name": "ipython",
    "version": 3
   },
   "file_extension": ".py",
   "mimetype": "text/x-python",
   "name": "python",
   "nbconvert_exporter": "python",
   "pygments_lexer": "ipython3",
   "version": "3.11.9"
  }
 },
 "nbformat": 4,
 "nbformat_minor": 2
}
