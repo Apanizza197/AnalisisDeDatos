{
 "cells": [
  {
   "cell_type": "code",
   "execution_count": 31,
   "metadata": {},
   "outputs": [],
   "source": [
    "#Importar librerias \n",
    "import pandas as pd\n",
    "import seaborn as sns\n",
    "import matplotlib.pyplot as plt\n",
    "\n",
    "from sklearn.model_selection import train_test_split\n",
    "from sklearn.preprocessing import StandardScaler\n",
    "\n",
    "from sklearn.tree import DecisionTreeClassifier\n",
    "from sklearn.ensemble import RandomForestClassifier\n",
    "from sklearn.neighbors import KNeighborsClassifier\n",
    "from sklearn.naive_bayes import GaussianNB\n",
    "from sklearn.svm import SVC\n",
    "from sklearn.linear_model import LogisticRegression\n",
    "\n",
    "from sklearn.metrics import accuracy_score, precision_score, recall_score, f1_score, confusion_matrix\n",
    "\n",
    "# Para mostrar el arbol de decision\n",
    "from sklearn.tree import export_graphviz\n",
    "from six import StringIO\n",
    "from IPython.display import Image  \n",
    "import pydotplus\n",
    "\n",
    "import numpy as np"
   ]
  },
  {
   "cell_type": "code",
   "execution_count": 2,
   "metadata": {},
   "outputs": [],
   "source": [
    "# Cargar el dataset\n",
    "star_data = pd.read_csv('estrellas.csv')\n",
    "# star_data.head()\n",
    "\n",
    "# Verificar si hay valores nulos\n",
    "# print(star_data.isnull().sum())\n",
    "\n",
    "# No hay valores nulos"
   ]
  },
  {
   "cell_type": "code",
   "execution_count": 3,
   "metadata": {},
   "outputs": [],
   "source": [
    "X = star_data.drop(columns='Spectral Class')\n",
    "y = star_data['Spectral Class']\n",
    "\n",
    "# Dividir en train, test y validation\n",
    "X_train, X_test, y_train, y_test = train_test_split(X, y, test_size=0.2, random_state=42)\n",
    "X_train, X_val, y_train, y_val = train_test_split(X_train, y_train, test_size=0.2, random_state=42)\n"
   ]
  },
  {
   "cell_type": "code",
   "execution_count": 4,
   "metadata": {},
   "outputs": [],
   "source": [
    "def preprocesar_variables_categoricas(data):\n",
    "    '''Preprocesar variables categoricas'''\n",
    "    # Obtener dummies de columnas Star type, Star category, Star color\n",
    "    dummies = pd.get_dummies(data[['Star type', 'Star category', 'Star color']])\n",
    "    # Eliminar columnas originales\n",
    "    data.drop(columns=['Star type', 'Star category', 'Star color'], inplace=True)\n",
    "    # Concatenar dummies\n",
    "    data = pd.concat([data, dummies], axis=1)\n",
    "    return data\n",
    "\n",
    "X_train = preprocesar_variables_categoricas(X_train)\n",
    "X_val = preprocesar_variables_categoricas(X_val)\n",
    "X_test = preprocesar_variables_categoricas(X_test)"
   ]
  },
  {
   "cell_type": "code",
   "execution_count": 5,
   "metadata": {},
   "outputs": [],
   "source": [
    "# Get all columns in X_train, X_val and X_test\n",
    "all_columns = set(X_train.columns).union(set(X_val.columns)).union(set(X_test.columns))\n",
    "\n",
    "# Add missing columns to X_train, X_val and X_test\n",
    "for column in all_columns:\n",
    "    if column not in X_train.columns:\n",
    "        X_train[column] = False\n",
    "    if column not in X_val.columns:\n",
    "        X_val[column] = False\n",
    "    if column not in X_test.columns:\n",
    "        X_test[column] = False\n",
    "\n",
    "# Reorder columns\n",
    "X_train = X_train[list(all_columns)]\n",
    "X_val = X_val[list(all_columns)]\n",
    "X_test = X_test[list(all_columns)]\n",
    "\n",
    "features = list(X_train.columns)\n"
   ]
  },
  {
   "cell_type": "code",
   "execution_count": 6,
   "metadata": {},
   "outputs": [],
   "source": [
    "# Normalizar datos\n",
    "def normalizar_datos(data):\n",
    "    '''Normalizar datos'''\n",
    "    scaler = StandardScaler()\n",
    "    data = scaler.fit_transform(data)\n",
    "    return data\n",
    "\n",
    "X_train = normalizar_datos(X_train)\n",
    "X_val = normalizar_datos(X_val)\n",
    "X_test = normalizar_datos(X_test)"
   ]
  },
  {
   "cell_type": "code",
   "execution_count": 15,
   "metadata": {},
   "outputs": [],
   "source": [
    "# # Evaluar accuracy, precision, recall y F1\n",
    "def obtener_metricas_evaluacion(y_real, y_predicho):\n",
    "    '''Obtener metricas de evaluacion'''\n",
    "\n",
    "    matrix_confusion = confusion_matrix(y_real, y_predicho)\n",
    "    print('Accuracy:', get_accuracy(matrix_confusion))\n",
    "    print('Precision:', get_precision(matrix_confusion))\n",
    "    print('Recall:', get_recall(matrix_confusion))\n",
    "    print('F1:', get_f1(matrix_confusion))\n",
    "    \n",
    "    sns.heatmap(matrix_confusion, annot=True, fmt='d')\n",
    "    plt.xlabel('Predicho')\n",
    "    plt.ylabel('Real')\n",
    "    plt.show()\n",
    "\n",
    "def get_accuracy(matrix_confusion):\n",
    "    '''Obtener accuracy'''\n",
    "    sum = 0\n",
    "    for i in range(len(matrix_confusion)):\n",
    "        sum += matrix_confusion[i][i]\n",
    "    return sum / matrix_confusion.sum()\n",
    "\n",
    "def get_precision(matrix_confusion):\n",
    "    '''Obtener precision'''\n",
    "    columns = []\n",
    "    for i in range(len(matrix_confusion)):\n",
    "        if matrix_confusion[i,:].sum() == 0:\n",
    "            columns.append(0)\n",
    "        else:\n",
    "            columns.append(matrix_confusion[i][i] / matrix_confusion[i, :].sum())\n",
    "    return columns\n",
    "\n",
    "def get_recall(matrix_confusion):\n",
    "    '''Obtener recall'''\n",
    "    rows = []\n",
    "    for i in range(len(matrix_confusion)):\n",
    "        if matrix_confusion[:,i].sum() == 0:\n",
    "            rows.append(0)\n",
    "        else:\n",
    "            rows.append(matrix_confusion[i][i] / matrix_confusion[:, i].sum())\n",
    "    return rows\n",
    "\n",
    "def get_f1(matrix_confusion):\n",
    "    '''Obtener F1'''\n",
    "    precision = get_precision(matrix_confusion)\n",
    "    recall = get_recall(matrix_confusion)\n",
    "    f1 = []\n",
    "    for i in range(len(precision)):\n",
    "        if precision[i] + recall[i] == 0:\n",
    "            f1.append(0)\n",
    "        else:\n",
    "            f1.append(2 * (precision[i] * recall[i]) / (precision[i] + recall[i]))\n",
    "    return f1\n"
   ]
  },
  {
   "cell_type": "code",
   "execution_count": 61,
   "metadata": {},
   "outputs": [],
   "source": [
    "# Crear un dataframe para almacenar los resultados\n",
    "resultados = pd.DataFrame(columns=['Modelo', 'Accuracy', 'Precision', 'Recall', 'F1', 'Description'])\n",
    "\n",
    "def agregar_resultados(modelo_nombre, y_real, y_predicho, descripcion=''):\n",
    "    '''Agregar resultados al dataframe'''\n",
    "    matrix_confusion = confusion_matrix(y_real, y_predicho)\n",
    "    accuracy = get_accuracy(matrix_confusion)\n",
    "    precision = np.mean(get_precision(matrix_confusion))\n",
    "    recall = np.mean(get_recall(matrix_confusion))\n",
    "    f1 = np.mean(get_f1(matrix_confusion))\n",
    "    \n",
    "    resultados.loc[len(resultados)] = [modelo_nombre, accuracy, precision, recall, f1, descripcion]\n"
   ]
  },
  {
   "cell_type": "code",
   "execution_count": 62,
   "metadata": {},
   "outputs": [],
   "source": [
    "modelo_random_forest = RandomForestClassifier()\n",
    "modelo_random_forest.fit(X_train, y_train)\n",
    "y_pred = modelo_random_forest.predict(X_val)\n",
    "\n",
    "agregar_resultados('Random Forest', y_val, y_pred, 'n_estimators=100, max_depth=None')\n",
    "\n",
    "modelo_random_forest = RandomForestClassifier(n_estimators=200)\n",
    "modelo_random_forest.fit(X_train, y_train)\n",
    "y_pred = modelo_random_forest.predict(X_val)\n",
    "\n",
    "agregar_resultados('Random Forest', y_val, y_pred, 'n_estimators=200, max_depth=None')\n",
    "\n",
    "modelo_random_forest = RandomForestClassifier(n_estimators=200, max_depth=10)\n",
    "modelo_random_forest.fit(X_train, y_train)\n",
    "y_pred = modelo_random_forest.predict(X_val)\n",
    "\n",
    "agregar_resultados('Random Forest', y_val, y_pred, 'n_estimators=100, max_depth=10')\n"
   ]
  },
  {
   "cell_type": "code",
   "execution_count": 63,
   "metadata": {},
   "outputs": [],
   "source": [
    "# Entrenar modelo Regresion Logistica\n",
    "modelo_regresion_logistica = LogisticRegression()\n",
    "modelo_regresion_logistica.fit(X_train, y_train)\n",
    "y_pred = modelo_regresion_logistica.predict(X_val)\n",
    "\n",
    "agregar_resultados('Regresion Logistica', y_val, y_pred, 'max_iter=100, C=1')\n",
    "\n",
    "# Entrenar modelo Regresion Logistica\n",
    "modelo_regresion_logistica = LogisticRegression(max_iter=200)\n",
    "modelo_regresion_logistica.fit(X_train, y_train)\n",
    "y_pred = modelo_regresion_logistica.predict(X_val)\n",
    "\n",
    "agregar_resultados('Regresion Logistica', y_val, y_pred, 'max_iter=200, C=1')\n",
    "\n",
    "# Entrenar modelo Regresion Logistica\n",
    "modelo_regresion_logistica = LogisticRegression(max_iter=200, C=0.1)\n",
    "modelo_regresion_logistica.fit(X_train, y_train)\n",
    "y_pred = modelo_regresion_logistica.predict(X_val)\n",
    "\n",
    "agregar_resultados('Regresion Logistica', y_val, y_pred, 'max_iter=200, C=0.1')\n"
   ]
  },
  {
   "cell_type": "code",
   "execution_count": 67,
   "metadata": {},
   "outputs": [],
   "source": [
    "modelo_svm = SVC()\n",
    "modelo_svm.fit(X_train, y_train)\n",
    "y_pred = modelo_svm.predict(X_val)\n",
    "\n",
    "agregar_resultados('SVM', y_val, y_pred, 'C=1, kernel=rbf')\n",
    "\n",
    "modelo_svm = SVC(C=0.1)\n",
    "modelo_svm.fit(X_train, y_train)\n",
    "y_pred = modelo_svm.predict(X_val)\n",
    "\n",
    "agregar_resultados('SVM', y_val, y_pred, 'C=0.1, kernel=rbf')\n",
    "\n",
    "modelo_svm = SVC(C=0.1, kernel='linear')\n",
    "modelo_svm.fit(X_train, y_train)\n",
    "y_pred = modelo_svm.predict(X_val)\n",
    "\n",
    "agregar_resultados('SVM', y_val, y_pred, 'C=0.1, kernel=linear')\n",
    "\n",
    "\n"
   ]
  },
  {
   "cell_type": "code",
   "execution_count": 65,
   "metadata": {},
   "outputs": [],
   "source": [
    "modelo_decision_tree = DecisionTreeClassifier()\n",
    "modelo_decision_tree.fit(X_train, y_train)\n",
    "y_pred = modelo_decision_tree.predict(X_val)\n",
    "\n",
    "agregar_resultados('Decision Tree', y_val, y_pred, 'max_depth=None, min_samples_split=2')\n",
    "\n",
    "modelo_decision_tree = DecisionTreeClassifier(max_depth=10)\n",
    "modelo_decision_tree.fit(X_train, y_train)\n",
    "y_pred = modelo_decision_tree.predict(X_val)\n",
    "\n",
    "agregar_resultados('Decision Tree', y_val, y_pred, 'max_depth=10, min_samples_split=2')\n",
    "\n",
    "modelo_decision_tree = DecisionTreeClassifier(max_depth=10, min_samples_split=5)\n",
    "modelo_decision_tree.fit(X_train, y_train)\n",
    "y_pred = modelo_decision_tree.predict(X_val)\n",
    "\n",
    "agregar_resultados('Decision Tree', y_val, y_pred, 'max_depth=10, min_samples_split=5')"
   ]
  },
  {
   "cell_type": "code",
   "execution_count": 81,
   "metadata": {},
   "outputs": [
    {
     "name": "stdout",
     "output_type": "stream",
     "text": [
      "Métricas en el conjunto de validación:\n",
      "Accuracy: 0.8974358974358975\n",
      "Precision: [1.0, 0.6666666666666666, 0.75, 0.0, 1.0, 1.0]\n",
      "Recall: [0.8, 1.0, 0.75, 0, 0.9411764705882353, 0.8888888888888888]\n",
      "F1: [0.888888888888889, 0.8, 0.75, 0, 0.9696969696969697, 0.9411764705882353]\n"
     ]
    },
    {
     "data": {
      "image/png": "[encoded data removed]",
      "text/plain": [
       "<Figure size 640x480 with 2 Axes>"
      ]
     },
     "metadata": {},
     "output_type": "display_data"
    },
    {
     "name": "stdout",
     "output_type": "stream",
     "text": [
      "0.8974358974358975\n",
      "0.8812803753980223\n",
      "0.8974358974358975\n",
      "0.8820543291131526\n",
      "Métricas en el conjunto de testeo:\n",
      "Accuracy: 0.875\n",
      "Precision: [1.0, 1.0, 1.0, 0.0, 1.0, 0.7]\n",
      "Recall: [1.0, 0.7142857142857143, 0.5, 0, 1.0, 1.0]\n",
      "F1: [1.0, 0.8333333333333333, 0.6666666666666666, 0, 1.0, 0.8235294117647058]\n"
     ]
    },
    {
     "name": "stderr",
     "output_type": "stream",
     "text": [
      "c:\\Users\\agust\\AppData\\Local\\miniconda3\\envs\\gurobienv\\Lib\\site-packages\\sklearn\\metrics\\_classification.py:1531: UndefinedMetricWarning: Precision is ill-defined and being set to 0.0 in labels with no predicted samples. Use `zero_division` parameter to control this behavior.\n",
      "  _warn_prf(average, modifier, f\"{metric.capitalize()} is\", len(result))\n"
     ]
    },
    {
     "data": {
      "image/png": "[encoded data removed]",
      "text/plain": [
       "<Figure size 640x480 with 2 Axes>"
      ]
     },
     "metadata": {},
     "output_type": "display_data"
    },
    {
     "name": "stdout",
     "output_type": "stream",
     "text": [
      "0.875\n",
      "0.8571428571428571\n",
      "0.875\n",
      "0.852124183006536\n"
     ]
    },
    {
     "name": "stderr",
     "output_type": "stream",
     "text": [
      "c:\\Users\\agust\\AppData\\Local\\miniconda3\\envs\\gurobienv\\Lib\\site-packages\\sklearn\\metrics\\_classification.py:1531: UndefinedMetricWarning: Precision is ill-defined and being set to 0.0 in labels with no predicted samples. Use `zero_division` parameter to control this behavior.\n",
      "  _warn_prf(average, modifier, f\"{metric.capitalize()} is\", len(result))\n"
     ]
    }
   ],
   "source": [
    "# Seleccionar el mejor modelo basado en la métrica de Accuracy\n",
    "modelo = RandomForestClassifier(n_estimators=200, max_depth=10)\n",
    "\n",
    "modelo.fit(X_train, y_train)\n",
    "\n",
    "# Probar el modelo en el conjunto de validación\n",
    "y_pred = modelo.predict(X_val)\n",
    "\n",
    "# Probar el modelo en el conjunto de testeo\n",
    "y_pred_test = modelo.predict(X_test)\n",
    "\n",
    "# Obtener métricas de evaluación para el conjunto de validación\n",
    "print(\"Métricas en el conjunto de validación:\")\n",
    "obtener_metricas_evaluacion(y_val, y_pred)\n",
    "print(accuracy_score(y_val, y_pred))\n",
    "print(precision_score(y_val, y_pred, average='weighted'))\n",
    "print(recall_score(y_val, y_pred, average='weighted'))\n",
    "print(f1_score(y_val, y_pred, average='weighted'))\n",
    "\n",
    "\n",
    "\n",
    "# Obtener métricas de evaluación para el conjunto de testeo\n",
    "print(\"Métricas en el conjunto de testeo:\")\n",
    "obtener_metricas_evaluacion(y_test, y_pred_test)\n",
    "print(accuracy_score(y_test, y_pred_test))\n",
    "print(precision_score(y_test, y_pred_test, average='weighted'))\n",
    "print(recall_score(y_test, y_pred_test, average='weighted'))\n",
    "print(f1_score(y_test, y_pred_test, average='weighted'))\n",
    "\n",
    "\n",
    "\n"
   ]
  },
  {
   "cell_type": "code",
   "execution_count": null,
   "metadata": {},
   "outputs": [],
   "source": []
  }
 ],
 "metadata": {
  "kernelspec": {
   "display_name": "gurobienv",
   "language": "python",
   "name": "python3"
  },
  "language_info": {
   "codemirror_mode": {
    "name": "ipython",
    "version": 3
   },
   "file_extension": ".py",
   "mimetype": "text/x-python",
   "name": "python",
   "nbconvert_exporter": "python",
   "pygments_lexer": "ipython3",
   "version": "3.11.8"
  }
 },
 "nbformat": 4,
 "nbformat_minor": 2
}
