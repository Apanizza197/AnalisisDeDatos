{
 "cells": [
  {
   "cell_type": "markdown",
   "metadata": {},
   "source": [
    "# **PRÁCTICO 3**"
   ]
  },
  {
   "cell_type": "markdown",
   "metadata": {},
   "source": [
    "Ejercicios del práctico"
   ]
  },
  {
   "cell_type": "markdown",
   "metadata": {},
   "source": [
    "### Ejercicio 1\n",
    "\n",
    "La universidad ha encuestado a sus estudiantes para averiguar el tiempo\n",
    "semanal medio que dedican a navegar por Internet.\n",
    "+ ¿Cuál es la población?\n",
    "+ ¿Cuál es la muestra?\n",
    "\n",
    "La población es el conjunto de todos los estudiantes de la universidad.\n",
    "\n",
    "La muestra es el grupo de estudiantes que han sido encuestados para averiguar el tiempo semanal medio que dedican a navegar por Internet. Si es una encuesta general y obligatoria, la muestra es toda la población. Si es una encuesta voluntaria, la muestra es el grupo de estudiantes que respondieron a la encuesta."
   ]
  },
  {
   "cell_type": "markdown",
   "metadata": {},
   "source": [
    "### Ejercicio 2\n",
    "\n",
    "Suponga que es dueño de una tienda de alimentación.\n",
    "+ Proponga un ejemplo de una pregunta que podría responderse utilizando estadística descriptiva.\n",
    "\n",
    "¿Cuál es el promedio de ventas diarias en la tienda?\n",
    "\n",
    "Explicación: Esta pregunta busca calcular una métrica descriptiva básica, el promedio, a partir de los datos de ventas diarias. Resume los datos de una manera informativa y fácil de entender, proporcionando una idea general del rendimiento de la tienda.\n",
    "\n",
    "+ Proponga un ejemplo de una pregunta sobre una posible relación entre dos variables que tienen interés para su tienda de alimentación.\n",
    "\n",
    "¿Existe una relación entre la cantidad de promociones y el aumento en las ventas?\n",
    "\n",
    "Explicación: Esta pregunta intenta identificar una posible correlación o relación causal entre dos variables: la cantidad de promociones y las ventas. Es un ejemplo de análisis exploratorio, que busca descubrir patrones, relaciones o tendencias en los datos.\n",
    "\n",
    "+ Proponga un ejemplo en la que haya que hacer una predicción.\n",
    "\n",
    "¿Cuántas ventas se esperan para el próximo mes basándose en los datos históricos?\n",
    "\n",
    "Explicación: Esta pregunta se enfoca en la predicción futura utilizando datos históricos.\n",
    "\n",
    "\n"
   ]
  },
  {
   "cell_type": "markdown",
   "metadata": {},
   "source": [
    "### Ejercicio 3\n",
    "\n",
    "La oficina de relaciones públicas de un equipo de básquetbol profesional quiere información sobre los aficionados que acuden a los partidos después de la temporada. En los partidos que se festejan después de la temporada, se entrega a la entrada un cuestionario a cada aficionado. ¿Es la respuesta a cada una de las siguientes preguntas categórica o numérica? Si es categórica, indique el nivel de medición (nominal u ordinal). Si es numérica, ¿es discreta o continua?\n",
    "\n",
    "a) ¿Tiene usted una entrada de temporada?\n",
    "    - Categórica (Nominal)\n",
    "\n",
    "b) ¿Vive en el estado de Orange?\n",
    "    - Categórica (Nominal)\n",
    "\n",
    "c) ¿Cuánto le costó realmente la entrada para este partido de después de temporada?\n",
    "    - Numérica (Continua)\n",
    "\n",
    "d) ¿Cuál es su nivel de satisfacción respecto a la experiencia de compra?\n",
    "    - Categórica (Ordinal)"
   ]
  },
  {
   "cell_type": "markdown",
   "metadata": {},
   "source": [
    "### Ejercicio 4\n",
    "\n",
    "Se han formulado una serie de preguntas a una muestra de clientes de una\n",
    "tienda de helados. Identifique el tipo de dato (categórico o numérico continuo\n",
    "o discreto) que se pide en cada pregunta.\n",
    "\n",
    "a) ¿Cuál es su sabor favorito?\n",
    "    - Categórico (Nominal)\n",
    "\n",
    "b) ¿Cuántas veces al mes toma helado?\n",
    "    - Numérico (Discreto)\n",
    "\n",
    "c) ¿Tiene hijos de menos de 10 años que vivan en casa?\n",
    "    - Categórico (Nominal)\n",
    "\n",
    "d) ¿Ha probado el último sabor de helado?\n",
    "    - Categórico (Nominal)"
   ]
  },
  {
   "cell_type": "markdown",
   "metadata": {},
   "source": [
    "### Ejercicio 5\n",
    "\n",
    "En una muestra aleatoria de 5 semanas se observó que una agencia de\n",
    "cruceros recibía el siguiente número de programas semanales especiales de\n",
    "cruceros al Caribe:\n",
    "20, 73, 75, 80, 82\n",
    "\n",
    "a) Calcule la media, la mediana y la moda.\n",
    "\n",
    "Media: (20 + 73 + 75 + 80 + 82)/5 = 66\n",
    "\n",
    "Mediana: 75 (Posición central del conjunto de datos).\n",
    "\n",
    "Moda: No hay moda, todos los valores son únicos. \n",
    "\n",
    "b) ¿Qué medida de la tendencia central describe mejor los datos?\n",
    "\n",
    "En este caso particular, al haber un valor atípico (20), la media no refleja de la mejor manera la tendencia central de los datos. En este caso, la mediana sería más apropiada.\n",
    "\n"
   ]
  },
  {
   "cell_type": "markdown",
   "metadata": {},
   "source": [
    "### Ejercicio 6\n",
    "\n",
    "El director de unos grandes almacenes tiene interés en saber cuántas\n",
    "reclamaciones recibe el departamento de atención al cliente sobre la calidad\n",
    "de los aparatos eléctricos que venden los almacenes. Los registros de un\n",
    "periodo de 5 semanas muestran el siguiente número de reclamaciones\n",
    "semanales:\n",
    "\n",
    "13, 15, 8, 16, 8\n",
    "\n",
    "a) Calcule el número medio de reclamaciones semanales.\n",
    "\n",
    "(13 + 15 + 8 + 16 + 8)/5 = 12\n",
    "\n",
    "b) Calcule el número mediano de reclamaciones semanales.\n",
    "\n",
    "Mediana: 13 (Posición central del conjunto de datos).\n",
    "\n",
    "c) Halle la moda.\n",
    "\n",
    "Moda: 8, se repite dos veces."
   ]
  },
  {
   "cell_type": "markdown",
   "metadata": {},
   "source": [
    "### Ejercicio 7\n",
    "\n",
    "Los porcentajes de la remuneración total correspondientes al pago de pluses\n",
    "de una muestra de 12 altos ejecutivos son los siguientes:\n",
    "\n",
    "15,8 17,3 28,4 18,2 15,0 24,7 13,1 10,2 29,3 34,7 16,9 25,3\n",
    "\n",
    "a) Calcule la mediana muestral.\n",
    "\n",
    "18.2\n",
    "\n",
    "b) Calcule la media muestral.\n",
    "\n",
    "20.7"
   ]
  },
  {
   "cell_type": "code",
   "execution_count": null,
   "metadata": {},
   "outputs": [],
   "source": [
    "# Lista de porcentajes de la remuneración total correspondientes al pago de pluses\n",
    "remuneraciones = [15.8, 17.3, 28.4, 18.2, 15.0, 24.7, 13.1, 10.2, 29.3, 34.7, 16.9, 25.3]\n",
    "\n",
    "# Calcular la mediana muestral\n",
    "mediana = sorted(remuneraciones)[len(remuneraciones) // 2]\n",
    "print(f\"Mediana muestral: {mediana}\")\n",
    "\n",
    "# Calcular la media muestral\n",
    "media = sum(remuneraciones) / len(remuneraciones)\n",
    "print(f\"Media muestral: {media}\")"
   ]
  },
  {
   "cell_type": "markdown",
   "metadata": {},
   "source": [
    "### Ejercicio 8\n",
    "\n",
    "Calcule la varianza y la desviación estándar de los siguientes datos\n",
    "muestrales:\n",
    "\n",
    "6, 8, 7, 10, 3, 5, 9\n",
    "\n",
    "$\\sigma^2 = 4.5$\n",
    "\n",
    "$\\sigma \\approx 2.12$\n",
    "\n",
    "\n",
    "Comentario para entender el problema\n",
    "\n",
    "La varianza $\\sigma^2$ es una medida de la dispersión de un conjunto de datos. Se define como el promedio de los cuadrados de las diferencias entre cada valor y la media del conjunto de datos. Matemáticamente, se expresa como:\n",
    "\n",
    "$$\n",
    "\\sigma^2 = \\frac{1}{N} \\sum_{i=1}^{N} (x_i - \\mu)^2\n",
    "$$\n",
    "\n",
    "donde:\n",
    "- $N$ es el número total de datos.\n",
    "- $x_i$ representa cada valor individual del conjunto de datos.\n",
    "- $\\mu$ es la media del conjunto de datos.\n",
    "\n",
    "\n",
    "\n"
   ]
  },
  {
   "cell_type": "code",
   "execution_count": null,
   "metadata": {},
   "outputs": [],
   "source": [
    "import numpy as np\n",
    "\n",
    "# Datos muestrales\n",
    "datos = [6, 8, 7, 10, 3, 5, 9, 8]\n",
    "\n",
    "# Calcular la media\n",
    "media_datos = np.mean(datos)\n",
    "\n",
    "# Calcular la varianza\n",
    "varianza = 1/len(datos) * np.sum((datos - media_datos)**2)\n",
    "\n",
    "# Calcular la desviación estándar\n",
    "desviacion_estandar = np.sqrt(varianza)\n",
    "\n",
    "print(f\"Media: {media_datos}\")\n",
    "print(f\"Varianza: {varianza}\")\n",
    "print(f\"Desviación estándar: {desviacion_estandar}\")"
   ]
  },
  {
   "cell_type": "markdown",
   "metadata": {},
   "source": [
    "### Ejercicio 9\n",
    "\n",
    "Calcule el coeficiente de variación de los siguientes datos muestrales:\n",
    "\n",
    "10, 8, 11, 7, 9\n",
    "\n",
    "$ CV = \\frac{\\sigma}{\\mu} \\times 100 = 15.71%$\n"
   ]
  },
  {
   "cell_type": "code",
   "execution_count": null,
   "metadata": {},
   "outputs": [],
   "source": [
    "# Datos muestrales\n",
    "datos_ejercicio_9 = [10, 8, 11, 7, 9]\n",
    "\n",
    "# Calcular la media\n",
    "media_ejercicio_9 = np.mean(datos_ejercicio_9)\n",
    "\n",
    "# Calcular la desviación estándar\n",
    "desviacion_estandar_ejercicio_9 = np.std(datos_ejercicio_9)\n",
    "\n",
    "# Calcular el coeficiente de variación\n",
    "coeficiente_variacion = (desviacion_estandar_ejercicio_9 / media_ejercicio_9) * 100\n",
    "\n",
    "print(f\"Media: {media_ejercicio_9}\")\n",
    "print(f\"Desviación estándar: {desviacion_estandar_ejercicio_9}\")\n",
    "print(f\"Coeficiente de variación: {coeficiente_variacion:.2f}%\")"
   ]
  },
  {
   "cell_type": "markdown",
   "metadata": {},
   "source": [
    "### Ejercicio 10\n",
    "\n",
    "Considere la siguiente muestra de cinco valores y las ponderaciones\n",
    "correspondientes:\n",
    "\n",
    "| Xi  | wi |\n",
    "|-----|----|\n",
    "| 4.6 | 8  |\n",
    "| 3.2 | 3  |\n",
    "| 5.4 | 6  |\n",
    "| 2.6 | 2  |\n",
    "| 5.2 | 5  |\n",
    "\n",
    "a) Calcule la media aritmética de los xi valores sin ponderaciones.\n",
    "\n",
    "(4.6 + 3.2 + 5.4 + 2.6 + 5.2)/5 = 4.2\n",
    "\n",
    "b) Calcule la media ponderada de los xi valores.\n",
    "\n",
    "(4.6*8 + 3.2*3 + 5.4*6 + 2.6*2 + 5.2*5)/(8 + 3 + 6 + 2 + 5) = 4.58"
   ]
  },
  {
   "cell_type": "code",
   "execution_count": null,
   "metadata": {},
   "outputs": [],
   "source": [
    "# Valores y ponderaciones\n",
    "xi = [4.6, 3.2, 5.4, 2.6, 5.2]\n",
    "wi = [8, 3, 6, 2, 5]\n",
    "\n",
    "# Calcular la media aritmética de los xi valores sin ponderaciones\n",
    "media_aritmetica = sum(xi) / len(xi)\n",
    "print(f\"Media aritmética: {media_aritmetica}\")\n",
    "\n",
    "# Calcular la media ponderada de los xi valores\n",
    "media_ponderada = sum([xi[i] * wi[i] for i in range(len(xi))]) / sum(wi)\n",
    "print(f\"Media ponderada: {media_ponderada}\")"
   ]
  },
  {
   "cell_type": "markdown",
   "metadata": {},
   "source": [
    "### Ejercicio 11\n",
    "\n",
    "Considere la siguiente distribución de frecuencias de una muestra de 40 observaciones:\n",
    "\n",
    "| Clase  | Frecuencia |\n",
    "|--------|------------|\n",
    "| 0-4    | 5          |\n",
    "| 5-9    | 8          |\n",
    "| 10-14  | 11         |\n",
    "| 15-19  | 9          |\n",
    "| 20-24  | 7          |\n",
    "\n",
    "a) Calcule la media muestral.\n",
    "\n",
    "$ \\mu = 12.625$\n",
    "\n",
    "b) Calcule la varianza muestral y la desviación estándar muestral.\n",
    "\n",
    "$ \\sigma^2 = 40.23$\n",
    "\n",
    "$ \\sigma \\approx 6.34$\n"
   ]
  },
  {
   "cell_type": "code",
   "execution_count": null,
   "metadata": {},
   "outputs": [],
   "source": [
    "# Definir las clases y sus frecuencias\n",
    "clases = [(0, 4), (5, 9), (10, 14), (15, 19), (20, 24)]\n",
    "frecuencias = [5, 8, 11, 9, 7]\n",
    "\n",
    "# Calcular el punto medio de cada clase\n",
    "puntos_medios = [(clase[0] + clase[1]) / 2 for clase in clases]\n",
    "\n",
    "# Calcular la media muestral\n",
    "n = sum(frecuencias)\n",
    "media_muestral = sum(punto_medio * frecuencia for punto_medio, frecuencia in zip(puntos_medios, frecuencias)) / n\n",
    "print(f\"Media muestral: {media_muestral}\")\n",
    "\n",
    "# Calcular la varianza muestral\n",
    "varianza_muestral = sum(frecuencia * (punto_medio - media_muestral)**2 for punto_medio, frecuencia in zip(puntos_medios, frecuencias)) / n\n",
    "print(f\"Varianza muestral: {varianza_muestral}\")\n",
    "\n",
    "# Calcular la desviación estándar muestral\n",
    "desviacion_estandar_muestral = np.sqrt(varianza_muestral)\n",
    "print(f\"Desviación estándar muestral: {desviacion_estandar_muestral}\")"
   ]
  },
  {
   "cell_type": "markdown",
   "metadata": {},
   "source": [
    "### Ejercicio 12\n",
    "\n",
    "Halle la renta personal media per cápita ponderada de la siguiente muestra aleatoria de siete estados de Estados Unidos.\n",
    "\n",
    "| Estado       | Población | Ingreso per cápita |\n",
    "|--------------|-----------|--------------------|\n",
    "| Alabama      | 4,500,752 | 26,338             |\n",
    "| Georgia      | 8,684,715 | 29,442             |\n",
    "| Illinois     | 12,653,544| 33,690             |\n",
    "| Indiana      | 6,195,643 | 28,783             |\n",
    "| Nueva York   | 19,190,115| 36,574             |\n",
    "| Pensilvania  | 12,365,455| 31,998             |\n",
    "| Tennessee    | 5,841,748 | 28,455             |\n",
    "\n",
    "$ \\mu = 32300$"
   ]
  },
  {
   "cell_type": "code",
   "execution_count": null,
   "metadata": {},
   "outputs": [],
   "source": [
    "# Datos de la muestra\n",
    "estados = [\"Alabama\", \"Georgia\", \"Illinois\", \"Indiana\", \"Nueva York\", \"Pensilvania\", \"Tennessee\"]\n",
    "poblaciones = [4500752, 8684715, 12653544, 6195643, 19190115, 12365455, 5841748]\n",
    "ingresos_per_capita = [26338, 29442, 33690, 28783, 36574, 31998, 28455]\n",
    "\n",
    "# Calcular la renta personal media per cápita ponderada\n",
    "renta_media_ponderada = sum(p * i for p, i in zip(poblaciones, ingresos_per_capita)) / sum(poblaciones)\n",
    "print(f\"Renta personal media per cápita ponderada: {renta_media_ponderada}\")"
   ]
  },
  {
   "cell_type": "markdown",
   "metadata": {},
   "source": [
    "### Ejercicio 13\n",
    "\n",
    "Un fabricante de radios portátiles obtuvo una muestra de 50 radios de la producción de una semana. Las radios se comprobaron minuciosamente y el número de defectos encontrados fue el siguiente:\n",
    "\n",
    "| Número de defectos | Número de radios |\n",
    "|--------------------|------------------|\n",
    "| 0                  | 12               |\n",
    "| 1                  | 15               |\n",
    "| 2                  | 17               |\n",
    "| 3                  | 6                |\n",
    "\n",
    "Calcule la desviación estándar."
   ]
  },
  {
   "cell_type": "code",
   "execution_count": null,
   "metadata": {},
   "outputs": [],
   "source": [
    "# Datos de defectos y número de radios\n",
    "defectos = [0, 1, 2, 3]\n",
    "num_radios = [12, 15, 17, 6]\n",
    "\n",
    "# Calcular la media del número de defectos\n",
    "total_radios = sum(num_radios)\n",
    "media_defectos = sum(d * n for d, n in zip(defectos, num_radios)) / total_radios\n",
    "\n",
    "# Calcular la varianza\n",
    "varianza_defectos = sum(n * (d - media_defectos)**2 for d, n in zip(defectos, num_radios)) / total_radios\n",
    "\n",
    "# Calcular la desviación estándar\n",
    "desviacion_estandar_defectos = np.sqrt(varianza_defectos)\n",
    "\n",
    "print(f\"Media de defectos: {media_defectos}\")\n",
    "print(f\"Varianza de defectos: {varianza_defectos}\")\n",
    "print(f\"Desviación estándar de defectos: {desviacion_estandar_defectos}\")"
   ]
  }
 ],
 "metadata": {
  "kernelspec": {
   "display_name": "gurobienv",
   "language": "python",
   "name": "python3"
  },
  "language_info": {
   "codemirror_mode": {
    "name": "ipython",
    "version": 3
   },
   "file_extension": ".py",
   "mimetype": "text/x-python",
   "name": "python",
   "nbconvert_exporter": "python",
   "pygments_lexer": "ipython3",
   "version": "3.11.8"
  }
 },
 "nbformat": 4,
 "nbformat_minor": 2
}
