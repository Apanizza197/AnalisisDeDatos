{
 "cells": [
  {
   "cell_type": "markdown",
   "metadata": {},
   "source": [
    "# **PRÁCTICO 3**"
   ]
  },
  {
   "cell_type": "markdown",
   "metadata": {},
   "source": [
    "Ejercicios del práctico"
   ]
  },
  {
   "cell_type": "markdown",
   "metadata": {},
   "source": [
    "### Ejercicio 1\n",
    "\n",
    "La universidad ha encuestado a sus estudiantes para averiguar el tiempo\n",
    "semanal medio que dedican a navegar por Internet.\n",
    "+ ¿Cuál es la población?\n",
    "+ ¿Cuál es la muestra?\n",
    "\n",
    "La población es el conjunto de todos los estudiantes de la universidad.\n",
    "\n",
    "La muestra es el grupo de estudiantes que han sido encuestados para averiguar el tiempo semanal medio que dedican a navegar por Internet. Si es una encuesta general y obligatoria, la muestra es toda la población. Si es una encuesta voluntaria, la muestra es el grupo de estudiantes que respondieron a la encuesta."
   ]
  },
  {
   "cell_type": "markdown",
   "metadata": {},
   "source": [
    "### Ejercicio 2\n",
    "\n",
    "Suponga que es dueño de una tienda de alimentación.\n",
    "+ Proponga un ejemplo de una pregunta que podría responderse utilizando estadística descriptiva.\n",
    "\n",
    "¿Cuál es el promedio de ventas diarias en la tienda?\n",
    "\n",
    "Explicación: Esta pregunta busca calcular una métrica descriptiva básica, el promedio, a partir de los datos de ventas diarias. Resume los datos de una manera informativa y fácil de entender, proporcionando una idea general del rendimiento de la tienda.\n",
    "\n",
    "+ Proponga un ejemplo de una pregunta sobre una posible relación entre dos variables que tienen interés para su tienda de alimentación.\n",
    "\n",
    "¿Existe una relación entre la cantidad de promociones y el aumento en las ventas?\n",
    "\n",
    "Explicación: Esta pregunta intenta identificar una posible correlación o relación causal entre dos variables: la cantidad de promociones y las ventas. Es un ejemplo de análisis exploratorio, que busca descubrir patrones, relaciones o tendencias en los datos.\n",
    "\n",
    "+ Proponga un ejemplo en la que haya que hacer una predicción.\n",
    "\n",
    "¿Cuántas ventas se esperan para el próximo mes basándose en los datos históricos?\n",
    "\n",
    "Explicación: Esta pregunta se enfoca en la predicción futura utilizando datos históricos.\n",
    "\n",
    "\n"
   ]
  },
  {
   "cell_type": "markdown",
   "metadata": {},
   "source": [
    "### Ejercicio 3"
   ]
  },
  {
   "cell_type": "markdown",
   "metadata": {},
   "source": [
    "La oficina de relaciones públicas de un equipo de básquetbol profesional quiere información sobre los aficionados que acuden a los partidos después de la temporada. En los partidos que se festejan después de la temporada, se entrega a la entrada un cuestionario a cada aficionado. ¿Es la respuesta a cada una de las siguientes preguntas categórica o numérica? Si es categórica, indique el nivel de medición (nominal u ordinal). Si es numérica, ¿es discreta o continua?\n",
    "\n",
    "a) ¿Tiene usted una entrada de temporada?\n",
    "    - Categórica (Nominal)\n",
    "\n",
    "b) ¿Vive en el estado de Orange?\n",
    "    - Categórica (Nominal)\n",
    "\n",
    "c) ¿Cuánto le costó realmente la entrada para este partido de después de temporada?\n",
    "    - Numérica (Continua)\n",
    "\n",
    "d) ¿Cuál es su nivel de satisfacción respecto a la experiencia de compra?\n",
    "    - Categórica (Ordinal)"
   ]
  },
  {
   "cell_type": "markdown",
   "metadata": {},
   "source": [
    "### Ejercicio 4"
   ]
  },
  {
   "cell_type": "markdown",
   "metadata": {},
   "source": [
    "Se han formulado una serie de preguntas a una muestra de clientes de una\n",
    "tienda de helados. Identifique el tipo de dato (categórico o numérico continuo\n",
    "o discreto) que se pide en cada pregunta.\n",
    "\n",
    "a) ¿Cuál es su sabor favorito?\n",
    "    - Categórico (Nominal)\n",
    "\n",
    "b) ¿Cuántas veces al mes toma helado?\n",
    "    - Numérico (Discreto)\n",
    "\n",
    "c) ¿Tiene hijos de menos de 10 años que vivan en casa?\n",
    "    - Categórico (Nominal)\n",
    "\n",
    "d) ¿Ha probado el último sabor de helado?\n",
    "    - Categórico (Nominal)"
   ]
  },
  {
   "cell_type": "markdown",
   "metadata": {},
   "source": [
    "### Ejercicio 5"
   ]
  },
  {
   "cell_type": "markdown",
   "metadata": {},
   "source": [
    "En una muestra aleatoria de 5 semanas se observó que una agencia de\n",
    "cruceros recibía el siguiente número de programas semanales especiales de\n",
    "cruceros al Caribe:\n",
    "20, 73, 75, 80, 82\n",
    "\n",
    "a) Calcule la media, la mediana y la moda.\n",
    "\n",
    "Media: (20 + 73 + 75 + 80 + 82)/5 = 66\n",
    "\n",
    "Mediana: 75 (Posición central del conjunto de datos).\n",
    "\n",
    "Moda: No hay moda, todos los valores son únicos. \n",
    "\n",
    "b) ¿Qué medida de la tendencia central describe mejor los datos?\n",
    "\n",
    "En este caso particular, al haber un valor atípico (20), la media no refleja de la mejor manera la tendencia central de los datos. En este caso, la mediana sería más apropiada.\n",
    "\n",
    "\n"
   ]
  },
  {
   "cell_type": "markdown",
   "metadata": {},
   "source": []
  }
 ],
 "metadata": {
  "language_info": {
   "name": "python"
  }
 },
 "nbformat": 4,
 "nbformat_minor": 2
}
