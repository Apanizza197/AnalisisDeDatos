{
 "cells": [
  {
   "cell_type": "markdown",
   "metadata": {},
   "source": [
    "# **PRÁCTICO 3**"
   ]
  },
  {
   "cell_type": "markdown",
   "metadata": {},
   "source": [
    "Ejercicios del práctico"
   ]
  },
  {
   "cell_type": "markdown",
   "metadata": {},
   "source": [
    "### Ejercicio 1\n",
    "\n",
    "La universidad ha encuestado a sus estudiantes para averiguar el tiempo\n",
    "semanal medio que dedican a navegar por Internet.\n",
    "+ ¿Cuál es la población?\n",
    "+ ¿Cuál es la muestra?\n",
    "\n",
    "La población es el conjunto de todos los estudiantes de la universidad.\n",
    "\n",
    "La muestra es el grupo de estudiantes que han sido encuestados para averiguar el tiempo semanal medio que dedican a navegar por Internet. Si es una encuesta general y obligatoria, la muestra es toda la población. Si es una encuesta voluntaria, la muestra es el grupo de estudiantes que respondieron a la encuesta."
   ]
  },
  {
   "cell_type": "markdown",
   "metadata": {},
   "source": [
    "### Ejercicio 2\n",
    "\n",
    "Suponga que es dueño de una tienda de alimentación.\n",
    "+ Proponga un ejemplo de una pregunta que podría responderse utilizando estadística descriptiva.\n",
    "\n",
    "¿Cuál es el promedio de ventas diarias en la tienda?\n",
    "\n",
    "Explicación: Esta pregunta busca calcular una métrica descriptiva básica, el promedio, a partir de los datos de ventas diarias. Resume los datos de una manera informativa y fácil de entender, proporcionando una idea general del rendimiento de la tienda.\n",
    "\n",
    "+ Proponga un ejemplo de una pregunta sobre una posible relación entre dos variables que tienen interés para su tienda de alimentación.\n",
    "\n",
    "¿Existe una relación entre la cantidad de promociones y el aumento en las ventas?\n",
    "\n",
    "Explicación: Esta pregunta intenta identificar una posible correlación o relación causal entre dos variables: la cantidad de promociones y las ventas. Es un ejemplo de análisis exploratorio, que busca descubrir patrones, relaciones o tendencias en los datos.\n",
    "\n",
    "+ Proponga un ejemplo en la que haya que hacer una predicción.\n",
    "\n",
    "¿Cuántas ventas se esperan para el próximo mes basándose en los datos históricos?\n",
    "\n",
    "Explicación: Esta pregunta se enfoca en la predicción futura utilizando datos históricos.\n",
    "\n",
    "\n"
   ]
  },
  {
   "cell_type": "markdown",
   "metadata": {},
   "source": [
    "### Ejercicio 3\n",
    "\n",
    "La oficina de relaciones públicas de un equipo de básquetbol profesional quiere información sobre los aficionados que acuden a los partidos después de la temporada. En los partidos que se festejan después de la temporada, se entrega a la entrada un cuestionario a cada aficionado. ¿Es la respuesta a cada una de las siguientes preguntas categórica o numérica? Si es categórica, indique el nivel de medición (nominal u ordinal). Si es numérica, ¿es discreta o continua?\n",
    "\n",
    "a) ¿Tiene usted una entrada de temporada?\n",
    "    - Categórica (Nominal)\n",
    "\n",
    "b) ¿Vive en el estado de Orange?\n",
    "    - Categórica (Nominal)\n",
    "\n",
    "c) ¿Cuánto le costó realmente la entrada para este partido de después de temporada?\n",
    "    - Numérica (Continua)\n",
    "\n",
    "d) ¿Cuál es su nivel de satisfacción respecto a la experiencia de compra?\n",
    "    - Categórica (Ordinal)"
   ]
  },
  {
   "cell_type": "markdown",
   "metadata": {},
   "source": [
    "### Ejercicio 4\n",
    "\n",
    "Se han formulado una serie de preguntas a una muestra de clientes de una\n",
    "tienda de helados. Identifique el tipo de dato (categórico o numérico continuo\n",
    "o discreto) que se pide en cada pregunta.\n",
    "\n",
    "a) ¿Cuál es su sabor favorito?\n",
    "    - Categórico (Nominal)\n",
    "\n",
    "b) ¿Cuántas veces al mes toma helado?\n",
    "    - Numérico (Discreto)\n",
    "\n",
    "c) ¿Tiene hijos de menos de 10 años que vivan en casa?\n",
    "    - Categórico (Nominal)\n",
    "\n",
    "d) ¿Ha probado el último sabor de helado?\n",
    "    - Categórico (Nominal)"
   ]
  },
  {
   "cell_type": "markdown",
   "metadata": {},
   "source": [
    "### Ejercicio 5\n",
    "\n",
    "En una muestra aleatoria de 5 semanas se observó que una agencia de\n",
    "cruceros recibía el siguiente número de programas semanales especiales de\n",
    "cruceros al Caribe:\n",
    "20, 73, 75, 80, 82\n",
    "\n",
    "a) Calcule la media, la mediana y la moda.\n",
    "\n",
    "Media: (20 + 73 + 75 + 80 + 82)/5 = 66\n",
    "\n",
    "Mediana: 75 (Posición central del conjunto de datos).\n",
    "\n",
    "Moda: No hay moda, todos los valores son únicos. \n",
    "\n",
    "b) ¿Qué medida de la tendencia central describe mejor los datos?\n",
    "\n",
    "En este caso particular, al haber un valor atípico (20), la media no refleja de la mejor manera la tendencia central de los datos. En este caso, la mediana sería más apropiada.\n",
    "\n"
   ]
  },
  {
   "cell_type": "markdown",
   "metadata": {},
   "source": [
    "### Ejercicio 6\n",
    "\n",
    "El director de unos grandes almacenes tiene interés en saber cuántas\n",
    "reclamaciones recibe el departamento de atención al cliente sobre la calidad\n",
    "de los aparatos eléctricos que venden los almacenes. Los registros de un\n",
    "periodo de 5 semanas muestran el siguiente número de reclamaciones\n",
    "semanales:\n",
    "\n",
    "13, 15, 8, 16, 8\n",
    "\n",
    "a) Calcule el número medio de reclamaciones semanales.\n",
    "\n",
    "(13 + 15 + 8 + 16 + 8)/5 = 12\n",
    "\n",
    "b) Calcule el número mediano de reclamaciones semanales.\n",
    "\n",
    "Mediana: 13 (Posición central del conjunto de datos).\n",
    "\n",
    "c) Halle la moda.\n",
    "\n",
    "Moda: 8, se repite dos veces."
   ]
  },
  {
   "cell_type": "markdown",
   "metadata": {},
   "source": [
    "### Ejercicio 7\n",
    "\n",
    "Los porcentajes de la remuneración total correspondientes al pago de pluses\n",
    "de una muestra de 12 altos ejecutivos son los siguientes:\n",
    "\n",
    "15,8 17,3 28,4 18,2 15,0 24,7 13,1 10,2 29,3 34,7 16,9 25,3\n",
    "\n",
    "a) Calcule la mediana muestral.\n",
    "\n",
    "18.2\n",
    "\n",
    "b) Calcule la media muestral.\n",
    "\n",
    "20.7"
   ]
  },
  {
   "cell_type": "code",
   "execution_count": 1,
   "metadata": {},
   "outputs": [
    {
     "name": "stdout",
     "output_type": "stream",
     "text": [
      "Mediana muestral: 18.2\n",
      "Media muestral: 20.741666666666667\n"
     ]
    }
   ],
   "source": [
    "# Lista de porcentajes de la remuneración total correspondientes al pago de pluses\n",
    "remuneraciones = [15.8, 17.3, 28.4, 18.2, 15.0, 24.7, 13.1, 10.2, 29.3, 34.7, 16.9, 25.3]\n",
    "\n",
    "# Calcular la mediana muestral\n",
    "mediana = sorted(remuneraciones)[len(remuneraciones) // 2]\n",
    "print(f\"Mediana muestral: {mediana}\")\n",
    "\n",
    "# Calcular la media muestral\n",
    "media = sum(remuneraciones) / len(remuneraciones)\n",
    "print(f\"Media muestral: {media}\")"
   ]
  },
  {
   "cell_type": "markdown",
   "metadata": {},
   "source": [
    "### Ejercicio 8\n",
    "\n",
    "Calcule la varianza y la desviación estándar de los siguientes datos\n",
    "muestrales:\n",
    "\n",
    "6, 8, 7, 10, 3, 5, 9\n",
    "\n",
    "$\\sigma^2 = 4.5$\n",
    "\n",
    "$\\sigma \\approx 2.12$\n",
    "\n",
    "\n",
    "Comentario para entender el problema\n",
    "\n",
    "La varianza $\\sigma^2$ es una medida de la dispersión de un conjunto de datos. Se define como el promedio de los cuadrados de las diferencias entre cada valor y la media del conjunto de datos. Matemáticamente, se expresa como:\n",
    "\n",
    "$$\n",
    "\\sigma^2 = \\frac{1}{N} \\sum_{i=1}^{N} (x_i - \\mu)^2\n",
    "$$\n",
    "\n",
    "donde:\n",
    "- $N$ es el número total de datos.\n",
    "- $x_i$ representa cada valor individual del conjunto de datos.\n",
    "- $\\mu$ es la media del conjunto de datos.\n",
    "\n",
    "\n",
    "\n"
   ]
  },
  {
   "cell_type": "code",
   "execution_count": 1,
   "metadata": {},
   "outputs": [
    {
     "name": "stdout",
     "output_type": "stream",
     "text": [
      "Media: 7.0\n",
      "Varianza: 4.5\n",
      "Desviación estándar: 2.1213203435596424\n"
     ]
    }
   ],
   "source": [
    "import numpy as np\n",
    "\n",
    "# Datos muestrales\n",
    "datos = [6, 8, 7, 10, 3, 5, 9, 8]\n",
    "\n",
    "# Calcular la media\n",
    "media_datos = np.mean(datos)\n",
    "\n",
    "# Calcular la varianza\n",
    "varianza = 1/len(datos) * np.sum((datos - media_datos)**2)\n",
    "\n",
    "# Calcular la desviación estándar\n",
    "desviacion_estandar = np.sqrt(varianza)\n",
    "\n",
    "print(f\"Media: {media_datos}\")\n",
    "print(f\"Varianza: {varianza}\")\n",
    "print(f\"Desviación estándar: {desviacion_estandar}\")"
   ]
  },
  {
   "cell_type": "markdown",
   "metadata": {},
   "source": [
    "### Ejercicio 9\n",
    "\n",
    "Calcule el coeficiente de variación de los siguientes datos muestrales:\n",
    "\n",
    "10, 8, 11, 7, 9\n",
    "\n",
    "$ CV = \\frac{\\sigma}{\\mu} \\times 100 = 15.71%$\n"
   ]
  },
  {
   "cell_type": "code",
   "execution_count": null,
   "metadata": {},
   "outputs": [],
   "source": [
    "# Datos muestrales\n",
    "datos_ejercicio_9 = [10, 8, 11, 7, 9]\n",
    "\n",
    "# Calcular la media\n",
    "media_ejercicio_9 = np.mean(datos_ejercicio_9)\n",
    "\n",
    "# Calcular la desviación estándar\n",
    "desviacion_estandar_ejercicio_9 = np.std(datos_ejercicio_9)\n",
    "\n",
    "# Calcular el coeficiente de variación\n",
    "coeficiente_variacion = (desviacion_estandar_ejercicio_9 / media_ejercicio_9) * 100\n",
    "\n",
    "print(f\"Media: {media_ejercicio_9}\")\n",
    "print(f\"Desviación estándar: {desviacion_estandar_ejercicio_9}\")\n",
    "print(f\"Coeficiente de variación: {coeficiente_variacion:.2f}%\")"
   ]
  },
  {
   "cell_type": "markdown",
   "metadata": {},
   "source": [
    "### Ejercicio 10\n",
    "\n",
    "Considere la siguiente muestra de cinco valores y las ponderaciones\n",
    "correspondientes:\n",
    "\n",
    "| Xi  | wi |\n",
    "|-----|----|\n",
    "| 4.6 | 8  |\n",
    "| 3.2 | 3  |\n",
    "| 5.4 | 6  |\n",
    "| 2.6 | 2  |\n",
    "| 5.2 | 5  |\n",
    "\n",
    "a) Calcule la media aritmética de los xi valores sin ponderaciones.\n",
    "\n",
    "(4.6 + 3.2 + 5.4 + 2.6 + 5.2)/5 = 4.2\n",
    "\n",
    "b) Calcule la media ponderada de los xi valores.\n",
    "\n",
    "(4.6*8 + 3.2*3 + 5.4*6 + 2.6*2 + 5.2*5)/(8 + 3 + 6 + 2 + 5) = 4.58"
   ]
  },
  {
   "cell_type": "code",
   "execution_count": null,
   "metadata": {},
   "outputs": [],
   "source": [
    "# Valores y ponderaciones\n",
    "xi = [4.6, 3.2, 5.4, 2.6, 5.2]\n",
    "wi = [8, 3, 6, 2, 5]\n",
    "\n",
    "# Calcular la media aritmética de los xi valores sin ponderaciones\n",
    "media_aritmetica = sum(xi) / len(xi)\n",
    "print(f\"Media aritmética: {media_aritmetica}\")\n",
    "\n",
    "# Calcular la media ponderada de los xi valores\n",
    "media_ponderada = sum([xi[i] * wi[i] for i in range(len(xi))]) / sum(wi)\n",
    "print(f\"Media ponderada: {media_ponderada}\")"
   ]
  },
  {
   "cell_type": "markdown",
   "metadata": {},
   "source": [
    "### Ejercicio 11\n",
    "\n",
    "Considere la siguiente distribución de frecuencias de una muestra de 40 observaciones:\n",
    "\n",
    "| Clase  | Frecuencia |\n",
    "|--------|------------|\n",
    "| 0-4    | 5          |\n",
    "| 5-9    | 8          |\n",
    "| 10-14  | 11         |\n",
    "| 15-19  | 9          |\n",
    "| 20-24  | 7          |\n",
    "\n",
    "a) Calcule la media muestral.\n",
    "\n",
    "$ \\mu = 12.625$\n",
    "\n",
    "b) Calcule la varianza muestral y la desviación estándar muestral.\n",
    "\n",
    "$ \\sigma^2 = 40.23$\n",
    "\n",
    "$ \\sigma \\approx 6.34$\n"
   ]
  },
  {
   "cell_type": "code",
   "execution_count": null,
   "metadata": {},
   "outputs": [],
   "source": [
    "# Definir las clases y sus frecuencias\n",
    "clases = [(0, 4), (5, 9), (10, 14), (15, 19), (20, 24)]\n",
    "frecuencias = [5, 8, 11, 9, 7]\n",
    "\n",
    "# Calcular el punto medio de cada clase\n",
    "puntos_medios = [(clase[0] + clase[1]) / 2 for clase in clases]\n",
    "\n",
    "# Calcular la media muestral\n",
    "n = sum(frecuencias)\n",
    "media_muestral = sum(punto_medio * frecuencia for punto_medio, frecuencia in zip(puntos_medios, frecuencias)) / n\n",
    "print(f\"Media muestral: {media_muestral}\")\n",
    "\n",
    "# Calcular la varianza muestral\n",
    "varianza_muestral = sum(frecuencia * (punto_medio - media_muestral)**2 for punto_medio, frecuencia in zip(puntos_medios, frecuencias)) / n\n",
    "print(f\"Varianza muestral: {varianza_muestral}\")\n",
    "\n",
    "# Calcular la desviación estándar muestral\n",
    "desviacion_estandar_muestral = np.sqrt(varianza_muestral)\n",
    "print(f\"Desviación estándar muestral: {desviacion_estandar_muestral}\")"
   ]
  },
  {
   "cell_type": "markdown",
   "metadata": {},
   "source": [
    "### Ejercicio 12\n",
    "\n",
    "Halle la renta personal media per cápita ponderada de la siguiente muestra aleatoria de siete estados de Estados Unidos.\n",
    "\n",
    "| Estado       | Población | Ingreso per cápita |\n",
    "|--------------|-----------|--------------------|\n",
    "| Alabama      | 4,500,752 | 26,338             |\n",
    "| Georgia      | 8,684,715 | 29,442             |\n",
    "| Illinois     | 12,653,544| 33,690             |\n",
    "| Indiana      | 6,195,643 | 28,783             |\n",
    "| Nueva York   | 19,190,115| 36,574             |\n",
    "| Pensilvania  | 12,365,455| 31,998             |\n",
    "| Tennessee    | 5,841,748 | 28,455             |\n",
    "\n",
    "$ \\mu = 32300$"
   ]
  },
  {
   "cell_type": "code",
   "execution_count": null,
   "metadata": {},
   "outputs": [],
   "source": [
    "# Datos de la muestra\n",
    "estados = [\"Alabama\", \"Georgia\", \"Illinois\", \"Indiana\", \"Nueva York\", \"Pensilvania\", \"Tennessee\"]\n",
    "poblaciones = [4500752, 8684715, 12653544, 6195643, 19190115, 12365455, 5841748]\n",
    "ingresos_per_capita = [26338, 29442, 33690, 28783, 36574, 31998, 28455]\n",
    "\n",
    "# Calcular la renta personal media per cápita ponderada\n",
    "renta_media_ponderada = sum(p * i for p, i in zip(poblaciones, ingresos_per_capita)) / sum(poblaciones)\n",
    "print(f\"Renta personal media per cápita ponderada: {renta_media_ponderada}\")"
   ]
  },
  {
   "cell_type": "markdown",
   "metadata": {},
   "source": [
    "### Ejercicio 13\n",
    "\n",
    "Un fabricante de radios portátiles obtuvo una muestra de 50 radios de la producción de una semana. Las radios se comprobaron minuciosamente y el número de defectos encontrados fue el siguiente:\n",
    "\n",
    "| Número de defectos | Número de radios |\n",
    "|--------------------|------------------|\n",
    "| 0                  | 12               |\n",
    "| 1                  | 15               |\n",
    "| 2                  | 17               |\n",
    "| 3                  | 6                |\n",
    "\n",
    "Calcule la desviación estándar."
   ]
  },
  {
   "cell_type": "code",
   "execution_count": 3,
   "metadata": {},
   "outputs": [
    {
     "name": "stdout",
     "output_type": "stream",
     "text": [
      "Desviación estándar de defectos: 0.9718024490605074\n"
     ]
    }
   ],
   "source": [
    "# Datos de defectos y número de radios\n",
    "defectos = [0, 1, 2, 3]\n",
    "num_radios = [12, 15, 17, 6]\n",
    "\n",
    "# Calcular la media del número de defectos\n",
    "total_radios = sum(num_radios)\n",
    "media_defectos = sum(d * n for d, n in zip(defectos, num_radios)) / total_radios\n",
    "\n",
    "# Calcular la varianza\n",
    "varianza_defectos = sum(n * (d - media_defectos)**2 for d, n in zip(defectos, num_radios)) / total_radios\n",
    "\n",
    "# Calcular la desviación estándar\n",
    "desviacion_estandar_defectos = np.sqrt(varianza_defectos)\n",
    "\n",
    "\n",
    "print(f\"Desviación estándar de defectos: {desviacion_estandar_defectos}\")"
   ]
  },
  {
   "cell_type": "markdown",
   "metadata": {},
   "source": [
    "### Ejercicio 14\n",
    "\n",
    " La tabla adjunta muestra la cantidad de tiempo (en horas) dedicada a estudiar \n",
    "para un examen por una muestra aleatoria de 25 estudiantes de una clase \n",
    "numerosa. \n",
    " \n",
    "| Horas de estudio | Número de estudiantes |\n",
    "|------------------|-----------------------|\n",
    "| 0 a 4            | 3                     |\n",
    "| 4 a 8            | 7                     |\n",
    "| 8 a 12           | 8                     |\n",
    "| 12 a 16          | 5                     |\n",
    "| 16 a 20          | 2                     |\n",
    "\n",
    " \n",
    "a) Estime la media muestral del tiempo de estudio. \n",
    "\n",
    "b) Estime la desviación estándar muestral."
   ]
  },
  {
   "cell_type": "code",
   "execution_count": 4,
   "metadata": {},
   "outputs": [
    {
     "name": "stdout",
     "output_type": "stream",
     "text": [
      "Media muestral: 9.36 horas\n",
      "Desviación estándar muestral: 4.57 horas\n"
     ]
    }
   ],
   "source": [
    "import numpy as np\n",
    "\n",
    "# Datos de la tabla\n",
    "intervalos = [(0, 4), (4, 8), (8, 12), (12, 16), (16, 20)]\n",
    "estudiantes = [3, 7, 8, 5, 2]\n",
    "\n",
    "# Puntos medios de cada intervalo\n",
    "puntos_medios = [(a + b) / 2 for a, b in intervalos]\n",
    "\n",
    "# Calcular la media muestral\n",
    "total_estudiantes = sum(estudiantes)\n",
    "media_muestral = sum(punto_medio * num_estudiantes for punto_medio, num_estudiantes in zip(puntos_medios, estudiantes)) / total_estudiantes\n",
    "\n",
    "# Calcular la desviación estándar muestral\n",
    "varianza_muestral = sum(num_estudiantes * (punto_medio - media_muestral) ** 2 for punto_medio, num_estudiantes in zip(puntos_medios, estudiantes)) / (total_estudiantes - 1)\n",
    "desviacion_estandar_muestral = np.sqrt(varianza_muestral)\n",
    "\n",
    "# Mostrar los resultados usando print\n",
    "print(f\"Media muestral: {media_muestral:.2f} horas\")\n",
    "print(f\"Desviación estándar muestral: {desviacion_estandar_muestral:.2f} horas\")\n",
    "\n"
   ]
  },
  {
   "cell_type": "markdown",
   "metadata": {},
   "source": [
    "### Ejercicio 15\n",
    "\n",
    "A  continuación, se presenta una muestra aleatoria de siete pares (x, y) de \n",
    "puntos de datos: \n",
    "(1, 5) (3, 7) (4, 6) (3, 6) (5, 7) (5, 8) \n",
    "\n",
    "a) Calcule el coeficiente de correlación. \n",
    "\n",
    "b) Calcule la covarianza."
   ]
  },
  {
   "cell_type": "code",
   "execution_count": 6,
   "metadata": {},
   "outputs": [
    {
     "name": "stdout",
     "output_type": "stream",
     "text": [
      "Coeficiente de correlación de Pearson: 0.8173029975005107\n",
      "Covarianza: 1.3\n"
     ]
    }
   ],
   "source": [
    "# Datos de la muestra\n",
    "x = np.array([1, 3, 4, 3, 5, 5])\n",
    "y = np.array([5, 7, 6, 6, 7, 8])\n",
    "\n",
    "# Calcular el coeficiente de correlación de Pearson\n",
    "coef_correlacion = np.corrcoef(x, y)[0, 1]\n",
    "\n",
    "# Calcular la covarianza\n",
    "covarianza = np.cov(x, y)[0, 1]\n",
    "\n",
    "print(f\"Coeficiente de correlación de Pearson: {coef_correlacion}\")\n",
    "print(f\"Covarianza: {covarianza}\")\n"
   ]
  },
  {
   "cell_type": "markdown",
   "metadata": {},
   "source": [
    "### Ejercicio 16\n",
    "\n",
    "Un hospital tiene interés en averiguar la eficacia de un nuevo medicamento \n",
    "para reducir el tiempo necesario para recuperarse totalmente de una \n",
    "operación de rodilla. La recuperación total se mide por medio de una serie de \n",
    "tests de fuerza que comparan la rodilla operada con la rodilla sin operar. El \n",
    "medicamento se administró en dosis diferentes a 18 pacientes durante un \n",
    "periodo de 6 meses. Los datos (x, y) siguientes indican el número de unidades \n",
    "de medicamento, X, y los días necesarios para la recuperación total Y de cada \n",
    "paciente: \n",
    "  \n",
    "(5, 53) (4, 56) (9, 54) (14, 56) (21, 65) (7, 53) (7, 56) (9, 59) (14, 48) (11, 66) \n",
    "(21,57) (17, 49) (9, 53) (21, 52) (4, 56) (9, 46) (14, 66) (13, 49) \n",
    " \n",
    "a) Calcule la covarianza. \n",
    "\n",
    "b) Calcule el coeficiente de correlación. \n",
    "\n",
    "c) Analice brevemente la relación entre el número de unidades de \n",
    "medicamento y el tiempo de recuperación. ¿Qué dosis deberíamos \n",
    "recomendar basándonos en este análisis inicial?\n",
    "\n",
    "Análisis de la Relación\n",
    "Covarianza: La covarianza calculada es aproximadamente 4.27. Con esto vemos que hay una relación positiva entre las dosis de medicamento y el tiempo de recuperación, pero el valor de esta covarianza no indica una relación fuerte. Si la covarianza es positiva, a medida que aumenta la dosis del medicamento el tiempo de recuperación tiende a aumentar.\n",
    "\n",
    "Coeficiente de Correlación de Pearson: El coeficiente de correlación es aproximadamente 0.13, que indica una correlación débil y positiva entre las dosis de medicamento y el tiempo de recuperación. Un valor de 0.13 muestra que no hay una relación clara entre estas dos variables, es decir que cambios en la dosis del medicamento no se traducen en cambios en el tiempo de recuperación.\n",
    "\n",
    "Recomendación de Dosis\n",
    "Habiendo hecho el análisis anterior, la recomendación sería la siguiente:\n",
    "\n",
    "Dosis Ideal:Como hay una correlación débil, es recomendable comenzar con dosis moderadas (como 9-14 unidades) para evaluar su efectividad en el tiempo de recuperación. Pero de todas maneras es importante tener en cuenta que no hay suficiente evidencia que sugiera que aumentar la dósis necesariamente reducirá el tiempo de recuperación.\n",
    "\n",
    "Pruebas Adicionales: Sería adecuado realizar más estudios o ensayos clínicos para determinar si hay una dosis óptima que ayude a acelerar la recuperación, ya que la relación observada no es fuerte. De saberse, permitiría ajustar las dosis de manera más precisa."
   ]
  },
  {
   "cell_type": "code",
   "execution_count": 8,
   "metadata": {},
   "outputs": [
    {
     "name": "stdout",
     "output_type": "stream",
     "text": [
      "Covarianza: 4.26797385620915\n",
      "Coeficiente de correlación de Pearson: 0.1283692964611233\n"
     ]
    }
   ],
   "source": [
    "# Datos de la muestra\n",
    "x = np.array([5, 4, 9, 14, 21, 7, 7, 9, 14, 11, 21, 17, 9, 21, 4, 9, 14, 13])\n",
    "y = np.array([53, 56, 54, 56, 65, 53, 56, 59, 48, 66, 57, 49, 53, 52, 56, 46, 66, 49])\n",
    "\n",
    "# Calcular la covarianza\n",
    "covarianza = np.cov(x, y)[0, 1]\n",
    "\n",
    "# Calcular el coeficiente de correlación de Pearson\n",
    "coef_correlacion = np.corrcoef(x, y)[0, 1]\n",
    "\n",
    "print(f\"Covarianza: {covarianza}\")\n",
    "print(f\"Coeficiente de correlación de Pearson: {coef_correlacion}\")\n"
   ]
  },
  {
   "cell_type": "markdown",
   "metadata": {},
   "source": [
    "### Ejercicio 17\n",
    "\n",
    "Acme Delivery ofrece tres tarifas distintas de envío de paquetes de menos de 5\n",
    "libras de Maine a la costa oeste: ordinario, $3; urgente, $5 , y superurgente,\n",
    "10$. Para comprobar la calidad de estos servicios, un importante minorista de\n",
    "venta por correo envió 15 paquetes de Maine a Tacoma (Washington) en\n",
    "momentos elegidos aleatoriamente. Los paquetes fueron enviados en grupos\n",
    "de tres por los tres servicios al mismo tiempo para reducir las diferencias\n",
    "resultantes del día del envío. Los datos siguientes muestran el coste de envío,\n",
    "X, y el número de días, Y, en pares (x, y):\n",
    "(3,7) (3, 6) (3, 5) (5,5) (10,2) (3,9) (5,6) (10,5) (5, 6) (10, 1) (3, 10) (5, 7) (10, 4)\n",
    "(5,6) (10, 4)\n",
    "\n",
    "a) Describa los datos numéricamente (covarianza y correlación).\n",
    "\n",
    "b) Analice el valor de los servicios de precio más alto desde el punto de vista\n",
    "del envío más rápido.\n"
   ]
  },
  {
   "cell_type": "code",
   "execution_count": 5,
   "metadata": {},
   "outputs": [
    {
     "name": "stdout",
     "output_type": "stream",
     "text": [
      "Media de X: 6.0\n",
      "Media de Y: 5.533333333333333\n",
      "Covarianza: -5.133333333333334\n",
      "Coeficiente de correlación: -0.7760246433075338\n"
     ]
    }
   ],
   "source": [
    "import numpy as np\n",
    "\n",
    "# Datos de envío\n",
    "data_envio = {\n",
    "    'X': [3, 3, 3, 5, 10, 3, 5, 10, 5, 10, 3, 5, 10, 5, 10],\n",
    "    'Y': [7, 6, 5, 5, 2, 9, 6, 5, 6, 1, 10, 7, 4, 6, 4]\n",
    "}\n",
    "\n",
    "# Convertir a DataFrame\n",
    "import pandas as pd\n",
    "df_envio = pd.DataFrame(data_envio)\n",
    "\n",
    "# Calcular la media\n",
    "mean_X = np.mean(data_envio['X'])\n",
    "mean_Y = np.mean(data_envio['Y'])\n",
    "\n",
    "# Calcular la covarianza\n",
    "covarianza = np.sum((df_envio['X'] - mean_X) * (df_envio['Y'] - mean_Y)) / len(df_envio)\n",
    "\n",
    "# Calcular las desviaciones estándar\n",
    "std_X = np.std(df_envio['X'], ddof=0)  # Poblacional\n",
    "std_Y = np.std(df_envio['Y'], ddof=0)  # Poblacional\n",
    "\n",
    "# Calcular el coeficiente de correlación\n",
    "correlation = covarianza / (std_X * std_Y)\n",
    "\n",
    "print(f\"Media de X: {mean_X}\")\n",
    "print(f\"Media de Y: {mean_Y}\")\n",
    "print(f\"Covarianza: {covarianza}\")\n",
    "print(f\"Coeficiente de correlación: {correlation}\")\n",
    "\n"
   ]
  },
  {
   "cell_type": "markdown",
   "metadata": {},
   "source": [
    "Análisis de los Resultados\n",
    "Covarianza:\n",
    "\n",
    "La covarianza negativa indica que, en general, a medida que aumenta el costo de envío, el número de días necesarios para la entrega tiende a disminuir. Esto sugiere una relación inversa entre el costo y el tiempo de entrega: servicios más caros son asociados con menos días de envío.\n",
    "Coeficiente de Correlación de Pearson:\n",
    "\n",
    "Un coeficiente de correlación de aproximadamente \n",
    "−\n",
    "0.78\n",
    "−0.78 indica una fuerte correlación negativa entre el costo de envío y los días de entrega. Esto significa que hay una relación lineal fuerte donde, a medida que el costo del envío aumenta, el tiempo de entrega disminuye.\n",
    "b) Análisis del Valor de los Servicios de Precio Más Alto\n",
    "Los servicios de envío más caros son los que ofrecen un costo de \n",
    "10\n",
    "10 dólares. Según los datos:\n",
    "\n",
    "Días de envío para el servicio superurgente (10$):\n",
    "(10, 2)\n",
    "(10, 1)\n",
    "(10, 4)\n",
    "(10, 4)\n",
    "Estos datos muestran que los paquetes enviados mediante el servicio superurgente tardaron entre 1 y 4 días en llegar a su destino, lo que es significativamente más rápido en comparación con los servicios ordinario (3$) y urgente (5$)."
   ]
  },
  {
   "cell_type": "markdown",
   "metadata": {},
   "source": [
    "### Ejercicio 18"
   ]
  },
  {
   "cell_type": "markdown",
   "metadata": {},
   "source": [
    "Realizar un análisis de tendencia central, desviación estándar y de relación \n",
    "entre variables utilizando el dataset proporcionado. Explicar los resultados \n",
    "obtenidos."
   ]
  },
  {
   "cell_type": "code",
   "execution_count": null,
   "metadata": {},
   "outputs": [],
   "source": [
    "#"
   ]
  },
  {
   "cell_type": "markdown",
   "metadata": {},
   "source": [
    "### Ejercicio 19\n",
    "\n",
    "El número de computadores vendidos al día en una tienda viene definido por \n",
    "la siguiente distribución de probabilidad: \n",
    "\n",
    "| X   | 0   | 1   | 2   | 3   | 4   | 5   | 6   |\n",
    "|-----|-----|-----|-----|-----|-----|-----|-----|\n",
    "| P(x)| 0.05| 0.10| 0.20| 0.20| 0.20| 0.15| 0.10|\n",
    "\n",
    " \n",
    "a) ¿P(3 ≤x ≤ 6)?\n",
    "\n",
    "b) ¿P(x > 3)?\n",
    "\n",
    "c) ¿P(x ≤ 4)? \n",
    "\n",
    "d) ¿P(2 < x ≤ 5)? "
   ]
  },
  {
   "cell_type": "code",
   "execution_count": 6,
   "metadata": {},
   "outputs": [
    {
     "name": "stdout",
     "output_type": "stream",
     "text": [
      "P(3 <= X <= 6): 0.65\n",
      "P(X > 3): 0.44999999999999996\n",
      "P(X <= 4): 0.75\n",
      "P(2 < X <= 5): 0.55\n"
     ]
    }
   ],
   "source": [
    "#Datos\n",
    "x = [0, 1, 2, 3, 4, 5, 6]\n",
    "prob_x = [0.05, 0.10, 0.20, 0.20, 0.20, 0.15, 0.10]\n",
    "\n",
    "#Parte a)\n",
    "prob_3 = sum(prob_x[3:])\n",
    "print(f\"P(3 <= X <= 6): {prob_3}\")\n",
    "\n",
    "#P(x>3)\n",
    "prob_x_mayor_3 = sum(prob_x[4:])\n",
    "print(f\"P(X > 3): {prob_x_mayor_3}\")\n",
    "\n",
    "#Parte c)\n",
    "prob_x_menor_ig_4 = sum(prob_x[:5])\n",
    "print(f\"P(X <= 4): {prob_x_menor_ig_4}\")\n",
    "\n",
    "#P(2<X<=5)\n",
    "prob_2_x_5 = sum(prob_x[3:6])\n",
    "print(f\"P(2 < X <= 5): {prob_2_x_5}\")\n"
   ]
  },
  {
   "cell_type": "markdown",
   "metadata": {},
   "source": [
    "### 20. Considera la siguiente distribución de probabilidad que representa el número de personas que llegan a una estación de tren por hora: \n",
    " \n",
    "| X   | 0   | 1   | 2   | 3   | 4   | 5   |\n",
    "|-----|-----|-----|-----|-----|-----|-----|\n",
    "| P(x)| 0.10| 0.15| 0.20| 0.25| 0.20| 0.10| \n",
    " \n",
    "a) ¿Cuál es la probabilidad de que lleguen al menos 2 personas en una hora? \n",
    "\n",
    "b) ¿Cuál es la probabilidad de que llegue más de 3 personas en una hora? \n",
    "\n",
    "c) ¿Cuál es la probabilidad de que llegue como máximo 4 personas en una \n",
    "hora? \n",
    "\n",
    "d) ¿Cuál es la probabilidad de que lleguen entre 1 y 3 personas en una hora?"
   ]
  },
  {
   "cell_type": "code",
   "execution_count": 24,
   "metadata": {},
   "outputs": [
    {
     "name": "stdout",
     "output_type": "stream",
     "text": [
      "Ejercicio a)\n",
      "Probabilidad de al menos 2 personas en una hora:  0.75 \n",
      "\n",
      "Ejercicio b)\n",
      "Probabilidad mas de 3 personas en una hora:  0.30000000000000004 \n",
      "\n",
      "Ejercicio c)\n",
      "Probabilidad de que llege como maximo 4 personas en una hora:  0.9 \n",
      "\n",
      "Ejercicio d)\n",
      "Probabilidad de que lleguen entre 1 y 3 personas en una hora:  0.6 \n",
      "\n"
     ]
    }
   ],
   "source": [
    "x = [0, 1, 2, 3, 4, 5]\n",
    "prob_x = [0.10, 0.15, 0.20, 0.25, 0.20, 0.10]\n",
    "\n",
    "print(\"Ejercicio a)\")\n",
    "prob_al_menos_2 = sum(prob_x[2:])\n",
    "print(f\"Probabilidad de al menos 2 personas en una hora: \", prob_al_menos_2, \"\\n\")\n",
    "\n",
    "print(\"Ejercicio b)\")\n",
    "prob_mas_de_3 = prob_x[4] + prob_x[5]\n",
    "print(f\"Probabilidad mas de 3 personas en una hora: \", prob_mas_de_3, \"\\n\")\n",
    "\n",
    "print(\"Ejercicio c)\")\n",
    "prob_max_4 = sum(prob_x[:5])\n",
    "print(f\"Probabilidad de que llege como maximo 4 personas en una hora: \", prob_max_4, \"\\n\")\n",
    "\n",
    "print(\"Ejercicio d)\")\n",
    "prob_entre_1_y_3 = sum(prob_x[1:4])\n",
    "print(f\"Probabilidad de que lleguen entre 1 y 3 personas en una hora: \", prob_entre_1_y_3, \"\\n\")\n"
   ]
  },
  {
   "cell_type": "markdown",
   "metadata": {},
   "source": [
    "### 21. Un concesionario de automóviles calcula la proporción de automóviles nuevos vendidos que se han devuelto varias veces para que se corrijan los defectos durante el periodo de garantía. Los resultados fueron los siguientes: \n",
    " \n",
    "| Numero de devoluciones |  0  |  1  |  2  |  3  |  4  |\n",
    "|-----|-----|-----|-----|-----|-----|\n",
    "| Proporcion| 0.28| 0.36| 0.23| 0.09| 0.04|\n",
    " \n",
    "a) Graficar la función de probabilidad. \n",
    "\n",
    "b) Calcular y graficar la función de probabilidad acumulada. \n",
    "\n",
    "c) Halle la esperanza del número de devoluciones de un automóvil para que se \n",
    "corrijan los defectos durante el periodo de garantía. \n",
    "\n",
    "d) Halle la varianza del número de devoluciones de un automóvil para que se \n",
    "corrijan los defectos durante el periodo de garantía."
   ]
  },
  {
   "cell_type": "code",
   "execution_count": 27,
   "metadata": {},
   "outputs": [
    {
     "name": "stdout",
     "output_type": "stream",
     "text": [
      "Ejercicio a)\n"
     ]
    },
    {
     "data": {
      "image/png": "[encoded data removed]",
      "text/plain": [
       "<Figure size 640x480 with 1 Axes>"
      ]
     },
     "metadata": {},
     "output_type": "display_data"
    },
    {
     "name": "stdout",
     "output_type": "stream",
     "text": [
      "Ejercicio b)\n"
     ]
    },
    {
     "data": {
      "image/png": "[encoded data removed]",
      "text/plain": [
       "<Figure size 640x480 with 1 Axes>"
      ]
     },
     "metadata": {},
     "output_type": "display_data"
    },
    {
     "name": "stdout",
     "output_type": "stream",
     "text": [
      "Ejercicio c)\n",
      "Esperanza (media) del número de devoluciones: 1.25 \n",
      "\n",
      "Ejercicio d)\n",
      "Varianza del número de devoluciones: 1.1675000000000002 \n",
      "\n"
     ]
    }
   ],
   "source": [
    "import numpy as np\n",
    "import matplotlib.pyplot as plt\n",
    "\n",
    "x = [0, 1, 2, 3, 4]\n",
    "prob_x = [0.28, 0.36, 0.23, 0.09, 0.04]\n",
    "\n",
    "print(\"Ejercicio a)\")\n",
    "plt.bar(x, prob_x)\n",
    "plt.xlabel('Número de devoluciones')\n",
    "plt.ylabel('Proporción')\n",
    "plt.title('Función de Probabilidad')\n",
    "plt.show()\n",
    "\n",
    "print(\"Ejercicio b)\")\n",
    "prob_acumulada = np.cumsum(prob_x)\n",
    "plt.plot(x, prob_acumulada, marker='o')\n",
    "plt.xlabel('Número de devoluciones')\n",
    "plt.ylabel('Proporción acumulada')\n",
    "plt.title('Función de Probabilidad Acumulada')\n",
    "plt.grid(True)\n",
    "plt.show()\n",
    "\n",
    "print(\"Ejercicio c)\")\n",
    "esperanza = np.dot(x, prob_x)\n",
    "print(f\"Esperanza (media) del número de devoluciones: {esperanza}\", \"\\n\")\n",
    "\n",
    "print(\"Ejercicio d)\")\n",
    "varianza = np.dot((np.array(x) - esperanza)**2, prob_x)\n",
    "print(f\"Varianza del número de devoluciones: {varianza}\", \"\\n\")\n",
    "\n",
    "\n"
   ]
  },
  {
   "cell_type": "markdown",
   "metadata": {},
   "source": [
    "### Ejercicio 22\n",
    "Una empresa está especializada en la instalación y el mantenimiento de \n",
    "calefacciones centrales. Antes de que empiece el invierno, las llamadas al \n",
    "servicio de mantenimiento pueden dar como re- sultado el pedido de una \n",
    "nueva caldera. La tabla adjunta muestra las probabilidades estimadas del \n",
    "número de pedidos de calderas nuevas generados de esta forma en las 2 \n",
    "últimas semanas de sep- tiembre. \n",
    "\n",
    "| Numero de pedidos |  0  |  1  |  2  |  3  |  4  | 5 |\n",
    "|-----|-----|-----|-----|-----|-----|-----|\n",
    "| Probabilidad| 0.10| 0.14| 0.26| 0.28| 0.15| 0.07|\n",
    "\n",
    "\n",
    "a) Graficar la función de probabilidad.\n",
    "\n",
    "b) Calcular y graficar la función de probabilidad acumulada. \n",
    "\n",
    " c) Halle la probabilidad de que se hagan al menos tres pedidos en este \n",
    "periodo. \n",
    "\n",
    "d) Halle la media del número de pedidos de una nueva caldera en este periodo \n",
    "de 2 semanas. \n",
    "    \n",
    "e) Halle la desviación típica del número de pedi- dos de una nueva caldera en \n",
    "este periodo de 2 semanas."
   ]
  },
  {
   "cell_type": "code",
   "execution_count": 9,
   "metadata": {},
   "outputs": [
    {
     "data": {
      "image/png": "[encoded data removed]",
      "text/plain": [
       "<Figure size 640x480 with 1 Axes>"
      ]
     },
     "metadata": {},
     "output_type": "display_data"
    },
    {
     "data": {
      "image/png": "[encoded data removed]",
      "text/plain": [
       "<Figure size 640x480 with 1 Axes>"
      ]
     },
     "metadata": {},
     "output_type": "display_data"
    },
    {
     "name": "stdout",
     "output_type": "stream",
     "text": [
      "c) Probabilidad de que se hagan 3 pedidos: 0.28\n",
      "d) Media: 2.45\n",
      "e) Desviación típica: 1.3592277219068187\n"
     ]
    }
   ],
   "source": [
    "#Funcion de probabilidad\n",
    "import numpy as np\n",
    "import matplotlib.pyplot as plt\n",
    "\n",
    "x = [0, 1, 2, 3, 4, 5]\n",
    "prob_x = [0.10, 0.14, 0.26, 0.28, 0.15, 0.07]\n",
    "\n",
    "plt.bar(x, prob_x)\n",
    "plt.xlabel('Número de llamadas')\n",
    "plt.ylabel('Probabilidad')\n",
    "plt.title('Función de Probabilidad')\n",
    "plt.show()\n",
    "\n",
    "#Prob acumulada\n",
    "prob_acumulada = np.cumsum(prob_x)\n",
    "plt.plot(x, prob_acumulada, marker='o')\n",
    "plt.xlabel('Número de llamadas')\n",
    "plt.ylabel('Probabilidad acumulada')\n",
    "plt.title('Función de Probabilidad Acumulada')\n",
    "plt.show() \n",
    "\n",
    "#Probabilidad de que se hagan 3 pedidos\n",
    "prob_3_pedidos = prob_x[3]\n",
    "print(f\"c) Probabilidad de que se hagan 3 pedidos: {prob_3_pedidos}\")\n",
    "\n",
    "#Media\n",
    "media = np.dot(x, prob_x)\n",
    "print(f\"d) Media: {media}\")\n",
    "\n",
    "#Desviacion tipica\n",
    "varianza = np.dot((np.array(x) - media)**2, prob_x)\n",
    "desviacion_tipica = np.sqrt(varianza)\n",
    "print(f\"e) Desviación típica: {desviacion_tipica}\")"
   ]
  },
  {
   "cell_type": "markdown",
   "metadata": {},
   "source": [
    "### 23. Un profesor tiene un numeroso grupo de alumnos y ha previsto un examen a las 7 de la tarde en un aula diferente. Estime en la tabla las probabilidades del número de estudiantes que lo llamarán a casa una hora antes del examen preguntándole en qué aula se realizará. \n",
    " \n",
    "| Numero de llamadas   |  0  |  1  |  2  |  3  |  4  |  5  |\n",
    "|-----|-----|-----|-----|-----|-----|-----|\n",
    "| Probabilidad | 0.10 | 0.15 | 0.19 | 0.26 | 0.19 | 0.11 | \n",
    "\n",
    " \n",
    "Halle la media y la desviación típica del número de llamadas."
   ]
  },
  {
   "cell_type": "code",
   "execution_count": 29,
   "metadata": {},
   "outputs": [
    {
     "name": "stdout",
     "output_type": "stream",
     "text": [
      "Media del número de llamadas: 2.62 \n",
      "\n",
      "Desviación típica del número de llamadas: 1.4749915253993835\n"
     ]
    }
   ],
   "source": [
    "x_llamadas = [0, 1, 2, 3, 4, 5]\n",
    "prob_llamadas = [0.10, 0.15, 0.19, 0.26, 0.19, 0.11]\n",
    "\n",
    "media_llamadas = np.dot(x_llamadas, prob_llamadas)\n",
    "print(f\"Media del número de llamadas: {media_llamadas}\", \"\\n\")\n",
    "\n",
    "varianza_llamadas = np.dot((np.array(x_llamadas) - media_llamadas)**2, prob_llamadas)\n",
    "\n",
    "desviacion_tipica_llamadas = np.sqrt(varianza_llamadas)\n",
    "print(f\"Desviación típica del número de llamadas: {desviacion_tipica_llamadas}\")\n",
    "\n"
   ]
  },
  {
   "cell_type": "markdown",
   "metadata": {},
   "source": [
    "### 24. Un equipo de reparación es responsable de un tramo de un oleoducto de 2 kilómetros de largo. La distancia (en kilómetros) a la que surge cualquier grieta puede representarse por medio de una variable aleatoria distribuida uniformemente, con una función de densidad de probabilidad: \n",
    " \n",
    "#### $f(x) = 0,5$ \n",
    " \n",
    "Halle la función de distribución acumulada y la probabilidad de que surja \n",
    "cualquier grieta dada entre 0,5 kilómetros y 1,5 en este tramo del oleoducto."
   ]
  },
  {
   "cell_type": "markdown",
   "metadata": {},
   "source": [
    "### Problema: Distribución uniforme de grietas en un oleoducto\n",
    "\n",
    "$$\n",
    "f(x) = 0.5 \\quad \\text{para} \\quad 0 \\leq x \\leq 2\n",
    "$$\n",
    "\n",
    "#### 1. Función de Distribución Acumulada (FDA):\n",
    "\n",
    "La función de distribución acumulada $F(x)$ para una distribución uniforme en el intervalo $[a, b]$ es:\n",
    "\n",
    "$$\n",
    "F(x) = \\frac{x - a}{b - a} \\quad \\text{para} \\quad a \\leq x \\leq b\n",
    "$$\n",
    "\n",
    "Dado que $ a = 0 $ y $ b = 2 $, la función de distribución acumulada en este caso es:\n",
    "\n",
    "$$\n",
    "F(x) = \\frac{x}{2} \\quad \\text{para} \\quad 0 \\leq x \\leq 2\n",
    "$$\n",
    "\n",
    "#### 2. Probabilidad de que surja una grieta entre 0.5 km y 1.5 km:\n",
    "\n",
    "$$\n",
    "P(0.5 \\leq X \\leq 1.5) = F(1.5) - F(0.5)\n",
    "$$\n",
    "\n",
    "Calculamos:\n",
    "\n",
    "$$\n",
    "F(1.5) = \\frac{1.5}{2} = 0.75\n",
    "$$\n",
    "\n",
    "$$\n",
    "F(0.5) = \\frac{0.5}{2} = 0.25\n",
    "$$\n",
    "\n",
    "Por lo tanto, la probabilidad es:\n",
    "\n",
    "$$\n",
    "P(0.5 \\leq X \\leq 1.5) = 0.75 - 0.25 = 0.5\n",
    "$$\n",
    "\n",
    "### Respuesta:\n",
    "\n",
    "- La función de distribución acumulada (FDA) es $ F(x) = \\frac{x}{2} $ para $ 0 \\leq x \\leq 2 $.\n",
    "- La probabilidad de que surja una grieta entre 0.5 km y 1.5 km es **0.5**.\n"
   ]
  },
  {
   "cell_type": "markdown",
   "metadata": {},
   "source": []
  }
 ],
 "metadata": {
  "kernelspec": {
   "display_name": "Python 3",
   "language": "python",
   "name": "python3"
  },
  "language_info": {
   "codemirror_mode": {
    "name": "ipython",
    "version": 3
   },
   "file_extension": ".py",
   "mimetype": "text/x-python",
   "name": "python",
   "nbconvert_exporter": "python",
   "pygments_lexer": "ipython3",
   "version": "3.11.9"
  }
 },
 "nbformat": 4,
 "nbformat_minor": 2
}
