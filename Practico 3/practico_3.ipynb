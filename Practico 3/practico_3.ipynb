{
 "cells": [
  {
   "cell_type": "markdown",
   "metadata": {},
   "source": [
    "# **PRÁCTICO 3**"
   ]
  },
  {
   "cell_type": "markdown",
   "metadata": {},
   "source": [
    "Ejercicios del práctico"
   ]
  },
  {
   "cell_type": "markdown",
   "metadata": {},
   "source": [
    "### Ejercicio 1\n",
    "\n",
    "La universidad ha encuestado a sus estudiantes para averiguar el tiempo\n",
    "semanal medio que dedican a navegar por Internet.\n",
    "+ ¿Cuál es la población?\n",
    "+ ¿Cuál es la muestra?\n",
    "\n",
    "La población es el conjunto de todos los estudiantes de la universidad.\n",
    "\n",
    "La muestra es el grupo de estudiantes que han sido encuestados para averiguar el tiempo semanal medio que dedican a navegar por Internet. Si es una encuesta general y obligatoria, la muestra es toda la población. Si es una encuesta voluntaria, la muestra es el grupo de estudiantes que respondieron a la encuesta."
   ]
  },
  {
   "cell_type": "markdown",
   "metadata": {},
   "source": [
    "### Ejercicio 2\n",
    "\n",
    "Suponga que es dueño de una tienda de alimentación.\n",
    "+ Proponga un ejemplo de una pregunta que podría responderse utilizando estadística descriptiva.\n",
    "\n",
    "¿Cuál es el promedio de ventas diarias en la tienda?\n",
    "\n",
    "Explicación: Esta pregunta busca calcular una métrica descriptiva básica, el promedio, a partir de los datos de ventas diarias. Resume los datos de una manera informativa y fácil de entender, proporcionando una idea general del rendimiento de la tienda.\n",
    "\n",
    "+ Proponga un ejemplo de una pregunta sobre una posible relación entre dos variables que tienen interés para su tienda de alimentación.\n",
    "\n",
    "¿Existe una relación entre la cantidad de promociones y el aumento en las ventas?\n",
    "\n",
    "Explicación: Esta pregunta intenta identificar una posible correlación o relación causal entre dos variables: la cantidad de promociones y las ventas. Es un ejemplo de análisis exploratorio, que busca descubrir patrones, relaciones o tendencias en los datos.\n",
    "\n",
    "+ Proponga un ejemplo en la que haya que hacer una predicción.\n",
    "\n",
    "¿Cuántas ventas se esperan para el próximo mes basándose en los datos históricos?\n",
    "\n",
    "Explicación: Esta pregunta se enfoca en la predicción futura utilizando datos históricos.\n",
    "\n",
    "\n"
   ]
  },
  {
   "cell_type": "markdown",
   "metadata": {},
   "source": []
  },
  {
   "cell_type": "markdown",
   "metadata": {},
   "source": []
  }
 ],
 "metadata": {
  "language_info": {
   "name": "python"
  }
 },
 "nbformat": 4,
 "nbformat_minor": 2
}
