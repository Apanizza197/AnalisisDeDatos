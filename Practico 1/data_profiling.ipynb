{
 "cells": [
  {
   "cell_type": "markdown",
   "metadata": {},
   "source": [
    "# Data profiling\n",
    "+ En esta parte, se utilizará la librería ydata_profiling' para comparar nuestro análisis con el informe mostrado."
   ]
  },
  {
   "cell_type": "code",
   "execution_count": null,
   "metadata": {},
   "outputs": [],
   "source": [
    "import pandas as pd\n",
    "from ydata_profiling import ProfileReport"
   ]
  },
  {
   "cell_type": "markdown",
   "metadata": {},
   "source": [
    "+ Lo que hay que hacer es esto:"
   ]
  },
  {
   "cell_type": "code",
   "execution_count": null,
   "metadata": {},
   "outputs": [],
   "source": [
    "# Se lee el csv\n",
    "#df = pd.read_csv(‘dataset.csv')\n",
    "# Se ejecuta reporte\n",
    "#profile = ProfileReport(df, title=\"Reporte\", explorative=True)\n",
    "# Se guarda reporte como html\n",
    "#profile.to_file(output_file=\"Profiling_html.html\")\n",
    "# Se guarda reporte como json\n",
    "#profile.to_file(output_file=\"Profiling_json.json”)"
   ]
  }
 ],
 "metadata": {
  "language_info": {
   "name": "python"
  }
 },
 "nbformat": 4,
 "nbformat_minor": 2
}
