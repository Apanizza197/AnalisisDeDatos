{
 "cells": [
  {
   "cell_type": "code",
   "execution_count": null,
   "metadata": {},
   "outputs": [],
   "source": [
    "import pandas as pd\n",
    "import matplotlib.pyplot as plt\n"
   ]
  },
  {
   "cell_type": "markdown",
   "metadata": {},
   "source": [
    "### Cargar los datos a estudiar"
   ]
  },
  {
   "cell_type": "code",
   "execution_count": null,
   "metadata": {},
   "outputs": [],
   "source": [
    "import pandas as pd\n",
    "\n",
    "df = pd.read_csv('permisos_construccion.csv')"
   ]
  },
  {
   "cell_type": "markdown",
   "metadata": {},
   "source": [
    "### Hacer un resumen con la explicación de las variables del juego de datos"
   ]
  },
  {
   "cell_type": "markdown",
   "metadata": {},
   "source": [
    "En el juego de datos se describen los permisos de construcción de distintas edificaciones. El juego tiene 43 columnas, que se dividen en las siguientes categorías:\n",
    "+ **Identificación del permiso**: `Permit Number`, `Permit Type`, `Permit Type Definition`, `Permit Creation Date`\n",
    "+ **Ubicación de la construcción**: `Block`, `Lot`, `Street Number`, `Street Name`, `Street Suffix`, `Unit`, `Unit Suffix`\n",
    "+ **Descripción de la obra**: `Description`\n",
    "+ **Estado y fecha del permiso**: `Current Status`, `Current Status Date`, `Filed Date`, `Issued Date`, `Completed Date`, `First Construction Document Date`, `Permit Expiration Date`\n",
    "+ **Información de la construcción**: `Number of Existing Stories`, `Number of Proposed Stories`, `Estimated Cost`, `Revised Cost`, `Existing Use`, `Existing Units`, `Proposed Use`, `Proposed Units`, `Plansets`, `Existing Construction Type`, `Existing Construction Type Description`, `Proposed Construction Type`, `Proposed Construction Type Description`, `Supervisor District`, `Neighborhoods - Analysis Boundaries`, `Zipcode`, `Location`, `Record ID`\n",
    "+ **Datos del permiso**: `Voluntary Soft-Story Retrofit`, `Fire Only Permit`, `Structural Notification`, `TIDF Compliance`, `Site Permit`"
   ]
  },
  {
   "cell_type": "markdown",
   "metadata": {},
   "source": [
    "### Realizar un análisis exploratorio de los datos"
   ]
  },
  {
   "cell_type": "code",
   "execution_count": null,
   "metadata": {},
   "outputs": [],
   "source": [
    "# a. Calcular cantidad de filas y columnas\n",
    "\n",
    "rows, columns = df.shape\n",
    "print(f'Cantidad de filas: {rows}')\n",
    "print(f'Cantidad de columnas: {columns}')"
   ]
  },
  {
   "cell_type": "code",
   "execution_count": null,
   "metadata": {},
   "outputs": [],
   "source": [
    "# b. Observar y mostrar las primeras 5 filas\n",
    "\n",
    "df.head()"
   ]
  },
  {
   "cell_type": "code",
   "execution_count": null,
   "metadata": {},
   "outputs": [],
   "source": [
    "# c. Evaluar la existencia de datos faltantes y duplicados. Cuantificarlos y calcular el porcentaje sobre el total de filas\n",
    "\n",
    "df.duplicated() #calcular la cantidad de datos duplicados\n",
    "contduplicados = df.duplicated().sum() #calcular la cantidad de datos duplicados\n",
    "print(f'Cantidad de datos duplicados: {contduplicados}')\n",
    "total_filas = df.shape[0]\n",
    "print(f'Total de filas: {total_filas}')\n",
    "porcentaje_duplicados = contduplicados / total_filas * 100\n",
    "print(f'Porcentaje de datos duplicados: {porcentaje_duplicados}%')"
   ]
  },
  {
   "cell_type": "code",
   "execution_count": null,
   "metadata": {},
   "outputs": [],
   "source": [
    "df_faltantes = pd.DataFrame(df.isnull().sum(), columns=['Cantidad de datos faltantes'])\n",
    "df_faltantes['Porcentaje de datos faltantes'] = df.isnull().sum() / total_filas * 100\n",
    "df_faltantes\n",
    "\n",
    "# Columnas con datos faltantes entre el 50 y 100%\n",
    "df_faltantes[(df_faltantes['Porcentaje de datos faltantes'] < 100) & (df_faltantes['Porcentaje de datos faltantes'] > 50)]\n",
    "\n",
    "#Street Number Suffix puede ser nulo porque no todas las direcciones tienen un sufijo\n",
    "#Zipcode puede ser nulo porque el area no tiene codigo postal() o porque no se ha ingresado\n",
    "#Unit puede ser nulo porque no todas las direcciones tienen un número de unidad o porque no se ha ingresado"
   ]
  },
  {
   "cell_type": "code",
   "execution_count": null,
   "metadata": {},
   "outputs": [],
   "source": [
    "# Muestra los distintos valores de la columna Street Number Suffix\n",
    "print(\"Los valores que toma la columna Street Number Suffix son:\" , df['Street Number Suffix'].unique())\n",
    "\n",
    "# Muestra los distintos valores de la columna Street Suffix\n",
    "print(\"Los valores que toma la columna Street Suffix son:\" , df['Street Suffix'].unique())\n",
    "\n",
    "# Muestra los distintos valores de la columna Unit Suffix\n",
    "# print(\"Los valores que toma la columna Unit Suffix son:\" , df['Unit Suffix'].unique())"
   ]
  },
  {
   "cell_type": "code",
   "execution_count": null,
   "metadata": {},
   "outputs": [],
   "source": [
    "# Obtener las columnas que tienen a lo sumo 20 valores únicos\n",
    "discrete_columns = [column for column in df.columns if len(df[column].unique()) <= 20]\n",
    "# Filtrar las columnas que tienen datos booleanos\n",
    "boolean_columns = [column for column in df.columns if len(df[column].unique()) == 2]\n",
    "# Obtener las columnas que tienen exactamente 3 valores únicos\n",
    "columns_with_3_unique_values = [column for column in df.columns if len(df[column].unique()) == 3]\n",
    "\n",
    "print(\"Columnas con a lo sumo 20 valores únicos: \", discrete_columns)\n",
    "print(\"Columnas con datos booleanos: \", boolean_columns)\n",
    "print(\"Columnas con exactamente 3 valores únicos: \", columns_with_3_unique_values)\n",
    "\n",
    "# Muestra los distintos valores de la columna TIDF Compliance\n",
    "print(\"Los valores que toma la columna TIDF Compliance son:\" , df['TIDF Compliance'].unique())\n",
    "df['TIDF Compliance'].value_counts()"
   ]
  },
  {
   "cell_type": "code",
   "execution_count": null,
   "metadata": {},
   "outputs": [],
   "source": [
    "# Creación de histogramas de las columnas discretas\n",
    "for column in discrete_columns:\n",
    "    df[column].value_counts().sort_index().plot(kind='bar')\n",
    "    plt.title(column)\n",
    "    plt.show()\n",
    "    "
   ]
  },
  {
   "cell_type": "code",
   "execution_count": null,
   "metadata": {},
   "outputs": [],
   "source": [
    "# Para los datos faltantes, evaluar posibles motivos de esto en cada caso.\n"
   ]
  },
  {
   "cell_type": "markdown",
   "metadata": {},
   "source": [
    "Para los datos faltantes, evaluar posibles motivos de esto en cada caso.\n",
    "\n",
    "La columna TIDF solo tiene dos valores distintos de 0."
   ]
  },
  {
   "cell_type": "code",
   "execution_count": null,
   "metadata": {},
   "outputs": [],
   "source": [
    "# Para variables discretas, evaluar los posibles valores de cada variable\n",
    "\n",
    "discrete_columns = [\n",
    "    'Street Suffix',\n",
    "    'Current Status',\n",
    "    'Number of Existing Stories',\n",
    "    'Number of Proposed Stories',\n",
    "    'Voluntary Soft-Story Retrofit', \n",
    "    'Fire Only Permit', \n",
    "    'Permit Expiration Date', \n",
    "    'Existing Use',\n",
    "    'Existing Units',\n",
    "    'Proposed Use',\n",
    "    'Proposed Units', \n",
    "    'Plansets', 'TIDF Compliance', 'Existing Construction Type', 'Proposed Construction Type', 'Site Permit', 'Supervisor District', 'Zipcode']\n",
    "\n",
    "discrete_df = df[discrete_columns]\n",
    "discrete_df"
   ]
  },
  {
   "cell_type": "code",
   "execution_count": null,
   "metadata": {},
   "outputs": [],
   "source": [
    "# Hay una columna que dice permiso de incendio, que tiene casi todos los valores null, y un par de Y. Entonces lo que se asume es que es una variable booleana, que indica si el permiso es necesaria o no.\n",
    "# Puede haber columnas en desuso. Fijarse para decir, esta columna no se usa por esto.\n",
    "# Las variables discretas que nos interesan son las de categorías, como tipos de permiso, no las de cantidad de pisos por ejemplo, ni las que son un montón, como nombre de calle o código postal."
   ]
  }
 ],
 "metadata": {
  "kernelspec": {
   "display_name": "gurobienv",
   "language": "python",
   "name": "python3"
  },
  "language_info": {
   "codemirror_mode": {
    "name": "ipython",
    "version": 3
   },
   "file_extension": ".py",
   "mimetype": "text/x-python",
   "name": "python",
   "nbconvert_exporter": "python",
   "pygments_lexer": "ipython3",
   "version": "3.11.8"
  }
 },
 "nbformat": 4,
 "nbformat_minor": 2
}
