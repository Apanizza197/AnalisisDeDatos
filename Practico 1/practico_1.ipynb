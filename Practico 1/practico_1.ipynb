{
 "cells": [
  {
   "cell_type": "code",
   "execution_count": null,
   "metadata": {},
   "outputs": [],
   "source": [
    "import pandas as pd\n",
    "import matplotlib.pyplot as plt\n"
   ]
  },
  {
   "cell_type": "markdown",
   "metadata": {},
   "source": [
    "### Cargar los datos a estudiar"
   ]
  },
  {
   "cell_type": "code",
   "execution_count": null,
   "metadata": {},
   "outputs": [],
   "source": [
    "import pandas as pd\n",
    "\n",
    "df = pd.read_csv('permisos_construccion.csv')"
   ]
  },
  {
   "cell_type": "markdown",
   "metadata": {},
   "source": [
    "### Hacer un resumen con la explicación de las variables del juego de datos"
   ]
  },
  {
   "cell_type": "code",
   "execution_count": null,
   "metadata": {},
   "outputs": [],
   "source": [
    "df.head()"
   ]
  },
  {
   "cell_type": "markdown",
   "metadata": {},
   "source": [
    "### Realizar un análisis exploratorio de los datos"
   ]
  },
  {
   "cell_type": "code",
   "execution_count": null,
   "metadata": {},
   "outputs": [],
   "source": [
    "# a. Calcular cantidad de filas y columnas\n",
    "\n",
    "rows, columns = df.shape\n",
    "print(f'Cantidad de filas: {rows}')\n",
    "print(f'Cantidad de columnas: {columns}')"
   ]
  },
  {
   "cell_type": "code",
   "execution_count": null,
   "metadata": {},
   "outputs": [],
   "source": [
    "# b. Observar y mostrar las primeras 5 filas\n",
    "\n",
    "df"
   ]
  },
  {
   "cell_type": "code",
   "execution_count": null,
   "metadata": {},
   "outputs": [],
   "source": [
    "#c. Evaluar la existencia de datos faltantes y duplicados. Cuantificarlos y calcular el porcentaje sobre el total de filas\n",
    "\n",
    "df.isnull().sum()\n",
    "\n",
    "#TODO: Describir los datos faltantes, decir que no hay ninguna fila vacía, pero que hay varias columnas con datos faltantes\n",
    "#TODO: Contar la cantidad de datos duplicados "
   ]
  },
  {
   "cell_type": "code",
   "execution_count": null,
   "metadata": {},
   "outputs": [],
   "source": [
    "# Para los datos faltantes, evaluar posibles motivos de esto en cada caso.\n"
   ]
  },
  {
   "cell_type": "code",
   "execution_count": null,
   "metadata": {},
   "outputs": [],
   "source": [
    "# Para variables discretas, evaluar los posibles valores de cada variable\n",
    "\n",
    "discrete_columns = [\n",
    "    'Street Suffix',\n",
    "    'Current Status',\n",
    "    'Number of Existing Stories',\n",
    "    'Number of Proposed Stories',\n",
    "    'Voluntary Soft-Story Retrofit', \n",
    "    'Fire Only Permit', \n",
    "    'Permit Expiration Date', \n",
    "    'Existing Use',\n",
    "    'Existing Units',\n",
    "    'Proposed Use',\n",
    "    'Proposed Units', \n",
    "    'Plansets', 'TIDF Compliance', 'Existing Construction Type', 'Proposed Construction Type', 'Site Permit', 'Supervisor District', 'Zipcode']\n",
    "\n",
    "discrete_df = df[discrete_columns]\n",
    "discrete_df"
   ]
  },
  {
   "cell_type": "code",
   "execution_count": null,
   "metadata": {},
   "outputs": [],
   "source": [
    "# Hay una columna que dice permiso de incendio, que tiene casi todos los valores null, y un par de Y. Entonces lo que se asume es que es una variable booleana, que indica si el permiso es necesaria o no.\n",
    "# Puede haber columnas en desuso. Fijarse para decir, esta columna no se usa por esto.\n",
    "# Las variables discretas que nos interesan son las de categorías, como tipos de permiso, no las de cantidad de pisos por ejemplo, ni las que son un montón, como nombre de calle o código postal."
   ]
  }
 ],
 "metadata": {
  "kernelspec": {
   "display_name": "gurobienv",
   "language": "python",
   "name": "python3"
  },
  "language_info": {
   "codemirror_mode": {
    "name": "ipython",
    "version": 3
   },
   "file_extension": ".py",
   "mimetype": "text/x-python",
   "name": "python",
   "nbconvert_exporter": "python",
   "pygments_lexer": "ipython3",
   "version": "3.11.8"
  }
 },
 "nbformat": 4,
 "nbformat_minor": 2
}
