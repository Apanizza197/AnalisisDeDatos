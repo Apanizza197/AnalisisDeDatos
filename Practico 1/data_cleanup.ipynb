{
 "cells": [
  {
   "cell_type": "code",
   "execution_count": 303,
   "metadata": {},
   "outputs": [],
   "source": [
    "import pandas as pd\n",
    "import matplotlib.pyplot as plt\n",
    "import numpy as np"
   ]
  },
  {
   "cell_type": "code",
   "execution_count": 304,
   "metadata": {},
   "outputs": [
    {
     "name": "stderr",
     "output_type": "stream",
     "text": [
      "C:\\Users\\germa\\AppData\\Local\\Temp\\ipykernel_14108\\3263701215.py:3: DtypeWarning: Columns (22,32,38) have mixed types. Specify dtype option on import or set low_memory=False.\n",
      "  df = pd.read_csv('permisos_construccion.csv')\n"
     ]
    }
   ],
   "source": [
    "import pandas as pd\n",
    "\n",
    "df = pd.read_csv('permisos_construccion.csv')"
   ]
  },
  {
   "cell_type": "markdown",
   "metadata": {},
   "source": [
    "### Tomar una decisión respecto a los datos faltantes, duplicados, inconsistencias y cualquier inconveniente que encuentren con los datos.\n",
    "\n",
    "+ `Street Name` tiene distintos tipos de usos de mayúsculas y minúsculas. Se va a pasar todo a mayúsculas en la primera letra y el resto en minúsculas.\n",
    "+ `Street Suffix` tiene valores nulos y valores que no son nulos. Se va a unir esta columna con `Street Name` y se va a eliminar `Street Name Suffix`."
   ]
  },
  {
   "cell_type": "code",
   "execution_count": 305,
   "metadata": {},
   "outputs": [],
   "source": [
    "# `Street Name` tiene distintos tipos de usos de mayúsculas y minúsculas. Se va a pasar todo a mayúsculas en la primera letra y el resto en minúsculas.\n",
    "df['Street Name'] = df['Street Name'].str.title() + ' ' + df['Street Suffix'].fillna('')\n",
    "# 'Street Suffix' tiene valores nulos. Se va a eliminar la columna y se va a unir con Street Name.\n",
    "df.drop(columns=['Street Suffix'], inplace=True)"
   ]
  },
  {
   "cell_type": "markdown",
   "metadata": {},
   "source": [
    "+ `Supervisor District` tiene algunas inconsistencias en los valores:"
   ]
  },
  {
   "cell_type": "code",
   "execution_count": 306,
   "metadata": {},
   "outputs": [
    {
     "name": "stdout",
     "output_type": "stream",
     "text": [
      "Hay 1719 valores nulos en la columna Supervisor District\n",
      "Los valores de Supervisor District son:\n",
      "Supervisor District\n",
      "3.0       21691\n",
      "8.0       20112\n",
      "2.0       19216\n",
      "6.0       18650\n",
      "5.0       14297\n",
      "9.0       12303\n",
      "7.0       10860\n",
      "1.0        9832\n",
      "10.0       9129\n",
      "4.0        7223\n",
      "3.0        6958\n",
      "8.0        6649\n",
      "2.0        6268\n",
      "6.0        6147\n",
      "11.0       5192\n",
      "5.0        4748\n",
      "9.0        4059\n",
      "7.0        3505\n",
      "1.0        3207\n",
      "10.0       3024\n",
      "4.0        2369\n",
      "11.0       1749\n",
      "quince        1\n",
      "veinte        1\n",
      "diez          1\n",
      "Name: count, dtype: int64\n"
     ]
    }
   ],
   "source": [
    "#'Supervisor District' null values?\n",
    "null_sd = df['Supervisor District'].isnull().sum()\n",
    "print(f'Hay {null_sd} valores nulos en la columna Supervisor District')\n",
    "#'Supervisor District' valores repetidos? Count\n",
    "count_sd = df['Supervisor District'].value_counts()\n",
    "print(f'Los valores de Supervisor District son:\\n{count_sd}')"
   ]
  },
  {
   "cell_type": "markdown",
   "metadata": {},
   "source": [
    "+ Para `Supervisor District` pasamos los números escritos en minúsculas a strings con dígitos."
   ]
  },
  {
   "cell_type": "code",
   "execution_count": 307,
   "metadata": {},
   "outputs": [],
   "source": [
    "# \"Supervisor District\" tiene números redactados. Se van a cambiar por numeración para facilitar la lectura pero como valor de string.\n",
    "number_mapping = {\n",
    "\"diez\":\"10.0\",\n",
    "\"quince\":\"15.0\",\n",
    "\"veinte\":\"20.0\",\n",
    "}\n",
    "\n",
    "df['Supervisor District'] = df['Supervisor District'].replace(number_mapping)\n",
    "df['Supervisor District'] = df['Supervisor District'].astype(str)"
   ]
  },
  {
   "cell_type": "markdown",
   "metadata": {},
   "source": [
    "+ En `TIDF Compliance` se elimino la columna debido a que unicamente tiene 2 valores no nulos.\n",
    "+ Se hizo algo similar para `Plansets`, rellenando con 0 los que estaban vacíos.\n",
    "+ En `Plansets` se removieron las filas con valores mayor a 100, se eligio este valor arbitrario para tener un margen amplio"
   ]
  },
  {
   "cell_type": "code",
   "execution_count": 308,
   "metadata": {},
   "outputs": [],
   "source": [
    "#'TIDF Compliance' tiene unicamente 2 valores no nulos. Se va a eliminar la columna.\n",
    "df.drop('TIDF Compliance', inplace=True, axis=1)\n",
    "df['Plansets'] = df['Plansets'].fillna(0)\n",
    "for x in df.index:\n",
    "  if df.loc[x, 'Plansets'] > 100:\n",
    "    df.drop(x, inplace = True)"
   ]
  },
  {
   "cell_type": "markdown",
   "metadata": {},
   "source": [
    "+ Para `Existing Construction Type`, `Existing Construction Type Description`, `Proposed Construction Type`, `Proposed Construction Type Description` decidimos borrar las descripciones que son incoherentes, como cuando la descripcion reitera el valor sin proveer mayor descripcion. Por ejemplo, cuando el valor de `Existing Construction Type` es `3` y el `Existing Construction Type Description` es `constr type 3`"
   ]
  },
  {
   "cell_type": "code",
   "execution_count": 309,
   "metadata": {},
   "outputs": [
    {
     "name": "stdout",
     "output_type": "stream",
     "text": [
      "   Existing Construction Type Existing Construction Type Description\n",
      "0                         NaN                                    NaN\n",
      "1                         5.0                         wood frame (5)\n",
      "2                         5.0                         wood frame (5)\n",
      "3                         5.0                         wood frame (5)\n",
      "4                         5.0                         wood frame (5)\n",
      "5                         5.0                         wood frame (5)\n",
      "6                         NaN                                    NaN\n",
      "7                         NaN                                    NaN\n",
      "8                         3.0                          constr type 3\n",
      "9                         3.0                          constr type 3\n"
     ]
    }
   ],
   "source": [
    "print(df[['Existing Construction Type', 'Existing Construction Type Description']].head(10))"
   ]
  },
  {
   "cell_type": "code",
   "execution_count": 310,
   "metadata": {},
   "outputs": [],
   "source": [
    "df['Existing Construction Type Description'] = df['Existing Construction Type Description'].apply(\n",
    "    lambda desc: np.nan if desc in [' constr type 3 ', ' constr type 1 ', 'constr type 1', 'constr type 2', 'constr type 3', 'constr type 4', 'constr type 5']\n",
    "    else 'wood frame' if desc in ['wood frame (5)', ' wood frame (5) ']\n",
    "    else desc\n",
    ")\n",
    "\n",
    "    "
   ]
  },
  {
   "cell_type": "markdown",
   "metadata": {},
   "source": [
    "+ En `Permit Type Definition`, hay algunos valores que representan lo mismo, pero tiene nombres diferentes o insconcistencias en el typeo, se decide modificar todo a un nombre comun. Por ejemplo 'new construction', hay variantes como ' new construction', 'new construction #'"
   ]
  },
  {
   "cell_type": "code",
   "execution_count": 311,
   "metadata": {},
   "outputs": [
    {
     "name": "stdout",
     "output_type": "stream",
     "text": [
      "Los valores de Permit Type Definition son:\n",
      "Permit Type Definition\n",
      "otc alterations permit                 178835\n",
      "additions alterations or repairs        14663\n",
      "sign - erect                             2892\n",
      "new construction wood frame               950\n",
      "demolitions                               600\n",
      "wall or painted sign                      511\n",
      "new construction                          347\n",
      "grade or quarry or fill or excavate        91\n",
      " otc alterations permit                     8\n",
      "otc alterations permit #                    8\n",
      "new construction #                          2\n",
      " new construction                           1\n",
      " additions alterations or repairs           1\n",
      "Name: count, dtype: int64\n",
      "Los valores de Permit Type Definition son:\n",
      "Permit Type Definition\n",
      "otc alterations permit                 178851\n",
      "additions alterations or repairs        14664\n",
      "sign - erect                             2892\n",
      "new construction wood frame               950\n",
      "demolitions                               600\n",
      "wall or painted sign                      511\n",
      "new construction                          350\n",
      "grade or quarry or fill or excavate        91\n",
      "Name: count, dtype: int64\n"
     ]
    }
   ],
   "source": [
    "df['Permit Type Definition'] = df['Permit Type Definition'].apply(\n",
    "    lambda desc: 'new construction' if desc in ['new construction #', ' new construction ']\n",
    "    else 'additions alterations or repairs' if desc in [' additions alterations or repairs ']\n",
    "    else 'otc alterations permit' if desc in [' otc alterations permit ', 'otc alterations permit #']\n",
    "    else desc\n",
    ")\n",
    "\n",
    "count_sd = df['Permit Type Definition'].value_counts()\n",
    "print(f'Los valores de Permit Type Definition son:\\n{count_sd}')"
   ]
  }
 ],
 "metadata": {
  "kernelspec": {
   "display_name": "gurobienv",
   "language": "python",
   "name": "python3"
  },
  "language_info": {
   "codemirror_mode": {
    "name": "ipython",
    "version": 3
   },
   "file_extension": ".py",
   "mimetype": "text/x-python",
   "name": "python",
   "nbconvert_exporter": "python",
   "pygments_lexer": "ipython3",
   "version": "3.12.5"
  }
 },
 "nbformat": 4,
 "nbformat_minor": 2
}
