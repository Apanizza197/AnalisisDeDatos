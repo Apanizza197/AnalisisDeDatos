{
 "cells": [
  {
   "cell_type": "code",
   "execution_count": 1,
   "metadata": {},
   "outputs": [],
   "source": [
    "import pandas as pd\n",
    "import matplotlib.pyplot as plt\n"
   ]
  },
  {
   "cell_type": "code",
   "execution_count": 2,
   "metadata": {},
   "outputs": [
    {
     "name": "stderr",
     "output_type": "stream",
     "text": [
      "C:\\Users\\flame\\AppData\\Local\\Temp\\ipykernel_37152\\3263701215.py:3: DtypeWarning: Columns (22,32,38) have mixed types. Specify dtype option on import or set low_memory=False.\n",
      "  df = pd.read_csv('permisos_construccion.csv')\n"
     ]
    }
   ],
   "source": [
    "import pandas as pd\n",
    "\n",
    "df = pd.read_csv('permisos_construccion.csv')"
   ]
  },
  {
   "cell_type": "markdown",
   "metadata": {},
   "source": [
    "### Tomar una decisión respecto a los datos faltantes, duplicados, inconsistencias y cualquier inconveniente que encuentren con los datos.\n",
    "\n",
    "+ `Street Name` tiene distintos tipos de usos de mayúsculas y minúsculas. Se va a pasar todo a mayúsculas en la primera letra y el resto en minúsculas.\n",
    "+ `Street Suffix` tiene valores nulos y valores que no son nulos. Se va a unir esta columna con `Street Name` y se va a eliminar `Street Name Suffix`."
   ]
  },
  {
   "cell_type": "code",
   "execution_count": 9,
   "metadata": {},
   "outputs": [],
   "source": [
    "# `Street Name` tiene distintos tipos de usos de mayúsculas y minúsculas. Se va a pasar todo a mayúsculas en la primera letra y el resto en minúsculas.\n",
    "df['Street Name'] = df['Street Name'].str.title() + ' ' + df['Street Suffix'].fillna('')\n",
    "# 'Street Suffix' tiene valores nulos. Se va a eliminar la columna y se va a unir con Street Name.\n",
    "df.drop(columns=['Street Suffix'], inplace=True)"
   ]
  },
  {
   "cell_type": "markdown",
   "metadata": {},
   "source": [
    "+ `Supervisor District` tiene algunas inconsistencias en los valores:"
   ]
  },
  {
   "cell_type": "code",
   "execution_count": 13,
   "metadata": {},
   "outputs": [
    {
     "name": "stdout",
     "output_type": "stream",
     "text": [
      "Hay 0 valores nulos en la columna Supervisor District\n",
      "Los valores de Supervisor District son:\n",
      "Supervisor District\n",
      "3.0     28649\n",
      "8.0     26761\n",
      "2.0     25484\n",
      "6.0     24797\n",
      "5.0     19045\n",
      "9.0     16362\n",
      "7.0     14365\n",
      "1.0     13039\n",
      "10.0    12154\n",
      "4.0      9592\n",
      "11.0     6941\n",
      "nan      1719\n",
      "15.0        1\n",
      "20.0        1\n",
      "Name: count, dtype: int64\n"
     ]
    }
   ],
   "source": [
    "#'Supervisor District' null values?\n",
    "null_sd = df['Supervisor District'].isnull().sum()\n",
    "print(f'Hay {null_sd} valores nulos en la columna Supervisor District')\n",
    "#'Supervisor District' valores repetidos? Count\n",
    "count_sd = df['Supervisor District'].value_counts()\n",
    "print(f'Los valores de Supervisor District son:\\n{count_sd}')"
   ]
  },
  {
   "cell_type": "markdown",
   "metadata": {},
   "source": [
    "+ Para `Supervisor District` pasamos los números escritos en minúsculas a strings con dígitos."
   ]
  },
  {
   "cell_type": "code",
   "execution_count": 12,
   "metadata": {},
   "outputs": [],
   "source": [
    "# \"Supervisor District\" tiene números redactados. Se van a cambiar por numeración para facilitar la lectura pero como valor de string.\n",
    "number_mapping = {\n",
    "\"diez\":\"10.0\",\n",
    "\"quince\":\"15.0\",\n",
    "\"veinte\":\"20.0\",\n",
    "}\n",
    "\n",
    "df['Supervisor District'] = df['Supervisor District'].replace(number_mapping)\n",
    "df['Supervisor District'] = df['Supervisor District'].astype(str)"
   ]
  },
  {
   "cell_type": "markdown",
   "metadata": {},
   "source": [
    "+ En `TIDF Compliance` cambiamos los valores 'NaN' por 'Does not apply'.\n",
    "+ Se hizo algo similar para `Plansets`, rellenando con 0 los que estaban vacíos."
   ]
  },
  {
   "cell_type": "code",
   "execution_count": 15,
   "metadata": {},
   "outputs": [],
   "source": [
    "#'TIDF Compliance' tiene valores nulos. Se va a rellenar con 'Does not apply'.\n",
    "df['TIDF Compliance'] = df['TIDF Compliance'].fillna('Does not apply')\n",
    "df['Plansets'] = df['Plansets'].fillna(0)"
   ]
  }
 ],
 "metadata": {
  "kernelspec": {
   "display_name": "gurobienv",
   "language": "python",
   "name": "python3"
  },
  "language_info": {
   "codemirror_mode": {
    "name": "ipython",
    "version": 3
   },
   "file_extension": ".py",
   "mimetype": "text/x-python",
   "name": "python",
   "nbconvert_exporter": "python",
   "pygments_lexer": "ipython3",
   "version": "3.11.9"
  }
 },
 "nbformat": 4,
 "nbformat_minor": 2
}
