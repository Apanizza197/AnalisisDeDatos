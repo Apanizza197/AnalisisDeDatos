{
 "cells": [
  {
   "cell_type": "code",
   "execution_count": null,
   "metadata": {},
   "outputs": [],
   "source": [
    "import pandas as pd\n",
    "import matplotlib.pyplot as plt\n"
   ]
  },
  {
   "cell_type": "code",
   "execution_count": null,
   "metadata": {},
   "outputs": [],
   "source": [
    "import pandas as pd\n",
    "\n",
    "df = pd.read_csv('permisos_construccion.csv')"
   ]
  },
  {
   "cell_type": "markdown",
   "metadata": {},
   "source": [
    "### Tomar una decisión respecto a los datos faltantes, duplicados, inconsistencias y cualquier inconveniente que encuentren con los datos.\n",
    "\n",
    "+ `Street Name` tiene distintos tipos de usos de mayúsculas y minúsculas. Se va a pasar todo a mayúsculas en la primera letra y el resto en minúsculas.\n",
    "+ `Street Suffix` tiene valores nulos y valores que no son nulos. Se va a unir esta columna con `Street Name` y se va a eliminar `Street Name Suffix`.\n"
   ]
  },
  {
   "cell_type": "code",
   "execution_count": null,
   "metadata": {},
   "outputs": [],
   "source": [
    "# `Street Name` tiene distintos tipos de usos de mayúsculas y minúsculas. Se va a pasar todo a mayúsculas en la primera letra y el resto en minúsculas.\n",
    "df['Street Name'] = df['Street Name'].str.title() + ' ' + df['Street Suffix'].fillna('')\n",
    "df.drop(columns=['Street Suffix'], inplace=True)\n"
   ]
  }
 ],
 "metadata": {
  "kernelspec": {
   "display_name": "gurobienv",
   "language": "python",
   "name": "python3"
  },
  "language_info": {
   "codemirror_mode": {
    "name": "ipython",
    "version": 3
   },
   "file_extension": ".py",
   "mimetype": "text/x-python",
   "name": "python",
   "nbconvert_exporter": "python",
   "pygments_lexer": "ipython3",
   "version": "3.11.8"
  }
 },
 "nbformat": 4,
 "nbformat_minor": 2
}
